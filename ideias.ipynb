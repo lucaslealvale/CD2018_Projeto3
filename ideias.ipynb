{
 "cells": [
  {
   "cell_type": "markdown",
   "metadata": {},
   "source": [
    "# Projeto 3 \n",
    "\n",
    "\n",
    "### Grupo: Lucas Leal, Matheus Soares, Rafael Almada"
   ]
  },
  {
   "cell_type": "markdown",
   "metadata": {},
   "source": [
    "___\n",
    "## Ideia 1 - Filmes: Regressao linear sobre rendimento monetario\n",
    "\n",
    "\n",
    "### Regressão Linear\n",
    "\n",
    "\n",
    "Analisando categoria, orçamento e estúdio qual será o retorno monetário de um filme X?"
   ]
  },
  {
   "cell_type": "markdown",
   "metadata": {},
   "source": [
    "Link do Dataset:\n",
    "https://www.kaggle.com/rounakbanik/the-movies-dataset#movies_metadata.csv"
   ]
  },
  {
   "cell_type": "markdown",
   "metadata": {},
   "source": [
    "___\n",
    "## Ideia 2 - Seguranca pública: como se proteger de um possível ataque terrorista para determinado local?\n",
    "\n",
    "\n",
    "### Classificador bayes\n",
    "\n",
    "\n",
    "Faríamos um classificador que indica qual tipo de ataque terrorista é o mais provável para determinado local, dado o treinamento do Dataset abaixo:"
   ]
  },
  {
   "cell_type": "markdown",
   "metadata": {},
   "source": [
    "Link do Dataset:\n",
    "https://www.kaggle.com/START-UMD/gtd/version/3"
   ]
  },
  {
   "cell_type": "markdown",
   "metadata": {},
   "source": [
    "___\n",
    "## Ideia 3 - Seguranca publica: dado uma pessoa qual tipo mais provavel dela cometer?\n",
    "\n",
    "\n",
    "### Clusterização\n",
    "\n",
    "\n",
    "Dado um Dataset de crimes cometidos em Nova York, poderíamos tirar conclusões de que 'tipo' mais provável um novo criminoso Y é. Ex: Criminoso Y é preso e nosso código indica que ele provavelmente é um psicopata, dado os dados do crime e o treinamento com o Dataset."
   ]
  },
  {
   "cell_type": "markdown",
   "metadata": {},
   "source": [
    "Link do Dataset:\n",
    "https://www.kaggle.com/new-york-state/nys-prison-admissions-beginning-2008"
   ]
  }
 ],
 "metadata": {
  "kernelspec": {
   "display_name": "Python 3",
   "language": "python",
   "name": "python3"
  },
  "language_info": {
   "codemirror_mode": {
    "name": "ipython",
    "version": 3
   },
   "file_extension": ".py",
   "mimetype": "text/x-python",
   "name": "python",
   "nbconvert_exporter": "python",
   "pygments_lexer": "ipython3",
   "version": "3.6.0"
  }
 },
 "nbformat": 4,
 "nbformat_minor": 2
}
