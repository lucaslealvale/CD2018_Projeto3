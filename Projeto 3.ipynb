{
 "cells": [
  {
   "cell_type": "markdown",
   "metadata": {},
   "source": [
    "# Projeto 3\n",
    "\n",
    "<b>Tema:</b> Estimar o retorno financeiro de um filme\n",
    "\n",
    "<b>Técnica:</b> Regressão Linear\n",
    "\n",
    "<b>Grupo:</b> Lucas Leal Vale, Matheus Augusto Soares, Rafael Almada\n",
    "___"
   ]
  },
  {
   "cell_type": "code",
   "execution_count": 1,
   "metadata": {
    "collapsed": false
   },
   "outputs": [],
   "source": [
    "import pandas as pd\n",
    "import numpy as np\n",
    "from scipy import stats\n",
    "import matplotlib.pyplot as plt\n",
    "import seaborn as sns\n",
    "import statsmodels.api as sm\n",
    "%matplotlib inline"
   ]
  },
  {
   "cell_type": "markdown",
   "metadata": {},
   "source": [
    "___\n",
    "## _Introdução_\n",
    "\n",
    "Neste projeto, o objetivo final do grupo, é conseguir estimar com certa precisão o retorno financeiro de um filme hipotético X dado algumas características do mesmo. Para isso estamos utilizando uma base de dados que pode ser encontrada no link abaixo:\n",
    "\n",
    "Link do DataSet: https://www.kaggle.com/rounakbanik/the-movies-dataset#movies_metadata.csv\n",
    "\n",
    "___\n",
    "\n",
    "### _Filtrando a Base de Dados_"
   ]
  },
  {
   "cell_type": "code",
   "execution_count": 2,
   "metadata": {
    "collapsed": false
   },
   "outputs": [
    {
     "data": {
      "text/html": [
       "<div>\n",
       "<table border=\"1\" class=\"dataframe\">\n",
       "  <thead>\n",
       "    <tr style=\"text-align: right;\">\n",
       "      <th></th>\n",
       "      <th>release_date</th>\n",
       "      <th>genres</th>\n",
       "      <th>id</th>\n",
       "      <th>budget</th>\n",
       "      <th>production_countries</th>\n",
       "      <th>popularity</th>\n",
       "      <th>original_language</th>\n",
       "      <th>runtime</th>\n",
       "      <th>production_companies</th>\n",
       "      <th>vote_average</th>\n",
       "      <th>revenue</th>\n",
       "      <th>original_title</th>\n",
       "    </tr>\n",
       "  </thead>\n",
       "  <tbody>\n",
       "    <tr>\n",
       "      <th>0</th>\n",
       "      <td>1995-10-30</td>\n",
       "      <td>[{'id': 16, 'name': 'Animation'}, {'id': 35, '...</td>\n",
       "      <td>862</td>\n",
       "      <td>30000000</td>\n",
       "      <td>[{'iso_3166_1': 'US', 'name': 'United States o...</td>\n",
       "      <td>21.946943</td>\n",
       "      <td>en</td>\n",
       "      <td>81.0</td>\n",
       "      <td>[{'name': 'Pixar Animation Studios', 'id': 3}]</td>\n",
       "      <td>7.7</td>\n",
       "      <td>373554033.0</td>\n",
       "      <td>Toy Story</td>\n",
       "    </tr>\n",
       "    <tr>\n",
       "      <th>1</th>\n",
       "      <td>1995-12-15</td>\n",
       "      <td>[{'id': 12, 'name': 'Adventure'}, {'id': 14, '...</td>\n",
       "      <td>8844</td>\n",
       "      <td>65000000</td>\n",
       "      <td>[{'iso_3166_1': 'US', 'name': 'United States o...</td>\n",
       "      <td>17.015539</td>\n",
       "      <td>en</td>\n",
       "      <td>104.0</td>\n",
       "      <td>[{'name': 'TriStar Pictures', 'id': 559}, {'na...</td>\n",
       "      <td>6.9</td>\n",
       "      <td>262797249.0</td>\n",
       "      <td>Jumanji</td>\n",
       "    </tr>\n",
       "    <tr>\n",
       "      <th>2</th>\n",
       "      <td>1995-12-22</td>\n",
       "      <td>[{'id': 10749, 'name': 'Romance'}, {'id': 35, ...</td>\n",
       "      <td>15602</td>\n",
       "      <td>0</td>\n",
       "      <td>[{'iso_3166_1': 'US', 'name': 'United States o...</td>\n",
       "      <td>11.7129</td>\n",
       "      <td>en</td>\n",
       "      <td>101.0</td>\n",
       "      <td>[{'name': 'Warner Bros.', 'id': 6194}, {'name'...</td>\n",
       "      <td>6.5</td>\n",
       "      <td>0.0</td>\n",
       "      <td>Grumpier Old Men</td>\n",
       "    </tr>\n",
       "  </tbody>\n",
       "</table>\n",
       "</div>"
      ],
      "text/plain": [
       "  release_date                                             genres     id  \\\n",
       "0   1995-10-30  [{'id': 16, 'name': 'Animation'}, {'id': 35, '...    862   \n",
       "1   1995-12-15  [{'id': 12, 'name': 'Adventure'}, {'id': 14, '...   8844   \n",
       "2   1995-12-22  [{'id': 10749, 'name': 'Romance'}, {'id': 35, ...  15602   \n",
       "\n",
       "     budget                               production_countries popularity  \\\n",
       "0  30000000  [{'iso_3166_1': 'US', 'name': 'United States o...  21.946943   \n",
       "1  65000000  [{'iso_3166_1': 'US', 'name': 'United States o...  17.015539   \n",
       "2         0  [{'iso_3166_1': 'US', 'name': 'United States o...    11.7129   \n",
       "\n",
       "  original_language  runtime  \\\n",
       "0                en     81.0   \n",
       "1                en    104.0   \n",
       "2                en    101.0   \n",
       "\n",
       "                                production_companies  vote_average  \\\n",
       "0     [{'name': 'Pixar Animation Studios', 'id': 3}]           7.7   \n",
       "1  [{'name': 'TriStar Pictures', 'id': 559}, {'na...           6.9   \n",
       "2  [{'name': 'Warner Bros.', 'id': 6194}, {'name'...           6.5   \n",
       "\n",
       "       revenue    original_title  \n",
       "0  373554033.0         Toy Story  \n",
       "1  262797249.0           Jumanji  \n",
       "2          0.0  Grumpier Old Men  "
      ]
     },
     "execution_count": 2,
     "metadata": {},
     "output_type": "execute_result"
    }
   ],
   "source": [
    "#Limpando DataFrame\n",
    "movies=pd.read_csv('movies_metadata.csv', low_memory=False)\n",
    "df=movies.loc[:, {'id','original_title','original_language','genres','popularity','runtime','budget','revenue',\n",
    "                 'production_companies','production_countries', 'release_date','vote_average',}]\n",
    "df.head(3)"
   ]
  },
  {
   "cell_type": "code",
   "execution_count": 3,
   "metadata": {
    "collapsed": false
   },
   "outputs": [
    {
     "data": {
      "text/plain": [
       "release_date             object\n",
       "genres                   object\n",
       "id                      float64\n",
       "budget                  float64\n",
       "production_countries     object\n",
       "popularity              float64\n",
       "original_language        object\n",
       "runtime                 float64\n",
       "production_companies     object\n",
       "vote_average            float64\n",
       "revenue                 float64\n",
       "original_title           object\n",
       "dtype: object"
      ]
     },
     "execution_count": 3,
     "metadata": {},
     "output_type": "execute_result"
    }
   ],
   "source": [
    "# Tirando valores de budget que estavam como arquivos de imagens e não números\n",
    "df=df.drop([19730, 29503, 35587])\n",
    "\n",
    "# Colocando algumas colunas como float para analisá-las quantitativamente\n",
    "df['budget']=df['budget'].astype('float64')\n",
    "df['popularity']=df['popularity'].astype('float64')\n",
    "df['id']=df['id'].astype('float64')\n",
    "df.dtypes"
   ]
  },
  {
   "cell_type": "code",
   "execution_count": 4,
   "metadata": {
    "collapsed": false
   },
   "outputs": [],
   "source": [
    "#Ordenando em ordem crescente de acordo com o id, e filtrando valores 0 das variáveis float\n",
    "df=df[(df['revenue']>0) & (df['budget']>0)  & (df['runtime']>0)]\n",
    "df=df.sort_values(['id'], ascending=[True])\n",
    "df['id']=df['id'].astype('int')\n",
    "\n",
    "df=df.set_index('id')"
   ]
  },
  {
   "cell_type": "markdown",
   "metadata": {},
   "source": [
    "___\n",
    "## _Análise Exploratória dos Dados_\n",
    "\n",
    "Aqui começamos a análise exploratória dos dados. Nosso objetivo nessa etapa é analisar como a nossa base de dados se comporta, para que assim, ao decorrer do código, é importante que estejamos cientes de como cada variável se organiza."
   ]
  },
  {
   "cell_type": "code",
   "execution_count": 5,
   "metadata": {
    "collapsed": false
   },
   "outputs": [
    {
     "data": {
      "text/plain": [
       "<matplotlib.axes._subplots.AxesSubplot at 0x21611984b00>"
      ]
     },
     "execution_count": 5,
     "metadata": {},
     "output_type": "execute_result"
    },
    {
     "data": {
      "image/png": "[encoded data removed]",
      "text/plain": [
       "<matplotlib.figure.Figure at 0x216199bcd68>"
      ]
     },
     "metadata": {},
     "output_type": "display_data"
    }
   ],
   "source": [
    "f,ax = plt.subplots(figsize = (10,10))\n",
    "sns.heatmap(df.corr(),annot = True,fmt='.1f')"
   ]
  },
  {
   "cell_type": "markdown",
   "metadata": {},
   "source": [
    "Com o gráfico acima obtemos os resultados das correlações entre cada coluna (variável). Como queremos achar uma forma de estimar o retorno financeiro de um filme ao final do projeto, precisamos analisar as variáveis em relação à variável 'Revenue'. Dessa forma percebemos que, em nossa regressão, quanto maior a correlação de uma variável X em relação à nossa variável fixada (revenue), quanto mais próxima a 1, seja positiva ou negativamente, mais importante será na nossa regressão tal variável.\n",
    "\n",
    "Logo, das variáveis escolhidas até o momento, podemos dizer que em ordem de maior relevância no cálculo da nossa regressão estão em ordem decrescente, primeiro Budget (ou custo de produção do filme), o qual era esperado ter grande impacto no retorno do mesmo. Logo em seguida vem Popularity ou a popularidade do filme (quanto falam dele). Depois, juntos, seguem as variáveis Runtime (Tempo corrido em tela do filme) e Vote Average (Nota do filme dada pela comunidade)."
   ]
  },
  {
   "cell_type": "code",
   "execution_count": 6,
   "metadata": {
    "collapsed": false
   },
   "outputs": [
    {
     "data": {
      "image/png": "[encoded data removed]",
      "text/plain": [
       "<matplotlib.figure.Figure at 0x21612007cf8>"
      ]
     },
     "metadata": {},
     "output_type": "display_data"
    }
   ],
   "source": [
    "# Alguns ScatterPlot para analisar a dispersão dos dados em relação a revenue\n",
    "fig=plt.figure(figsize=(10, 10))\n",
    "\n",
    "# Budget X Revenue\n",
    "plt.subplot(221)\n",
    "plt.scatter(df.budget,df.revenue, color='red')\n",
    "plt.title('Budget X Revenue')\n",
    "plt.ylabel('Revenue')\n",
    "plt.xlabel('Budget')\n",
    "\n",
    "# Popularity X Revenue\n",
    "plt.subplot(222)\n",
    "plt.scatter(df.popularity,df.revenue, color='blue')\n",
    "plt.title('Popularity X Revenue')\n",
    "plt.ylabel('Revenue')\n",
    "plt.xlabel('Popularity')\n",
    "\n",
    "# Vote Average X Revenue\n",
    "plt.subplot(223)\n",
    "plt.scatter(df.vote_average,df.revenue, color='green')\n",
    "plt.title('Vote Average X Revenue')\n",
    "plt.ylabel('Revenue')\n",
    "plt.xlabel('Vote Average')\n",
    "\n",
    "#Runtime X Revenue\n",
    "plt.subplot(224)\n",
    "plt.scatter(df.runtime,df.revenue, color='purple')\n",
    "plt.title('Runtime X Revenue')\n",
    "plt.ylabel('Revenue')\n",
    "plt.xlabel('Runtime')\n",
    "\n",
    "plt.show()"
   ]
  },
  {
   "cell_type": "markdown",
   "metadata": {},
   "source": [
    "Nos gráficos de dispersão acima podemos verificar o quão dispersos são os dados e visualiza-los em relação ao retorno financeiro (revenue). Percebemos que, como já visto em suas respectivas correlações, todos são positivos, logo quando o retorno é maior, a váriavel em questão (seja budget, popularidade ou tempo corrido) também é maior. A diferença desse gráfico para a tabela de correlações é que como já diz o nome deste, podemos verificar a disperção das variáveis.\n",
    "\n",
    "A parte curiosa disso é que alguns filmes conseguem um retorno alto, mesmo tendo uma produção barata seja por motivos quaisquer, como é o caso de alguns filmes de terror que por não usar muito dinheiro, sua credibilidade aumenta, aumentando no caso também o fator \"Terror\" e assim chegando a cada vez mais cinemas e conseguindo um retorno de um filme blockbuster produzido por alguma empresa grande. Além disso, os gráficos nos mostram que um filme popular entre as pessoas, não necessariamente vai trazer um retorno alto.\n",
    "\n",
    "Também temos dois gráficos que parecem um pouco com uma distribuição normal, possuindo uma média de tempo corrido de tela e classificação (ou nota) do público para o filme para um retorno maior do longa."
   ]
  },
  {
   "cell_type": "code",
   "execution_count": 7,
   "metadata": {
    "collapsed": false
   },
   "outputs": [
    {
     "data": {
      "image/png": "[encoded data removed]",
      "text/plain": [
       "<matplotlib.figure.Figure at 0x216120126a0>"
      ]
     },
     "metadata": {},
     "output_type": "display_data"
    }
   ],
   "source": [
    "# Gráficos que verificam se alguma das variáveis analisadas tende a uma distribuição normal\n",
    "fig=plt.figure(figsize=(15, 10))\n",
    "\n",
    "plt.subplot(221)\n",
    "stats.probplot(df.budget, plot=plt)\n",
    "plt.title('Probplot: Budget')\n",
    "\n",
    "plt.subplot(222)\n",
    "stats.probplot(df.popularity, plot=plt)\n",
    "plt.title('Probplot: Popularity')\n",
    "\n",
    "plt.subplot(223)\n",
    "stats.probplot(df.runtime, plot=plt)\n",
    "plt.title('Probplot: Runtime')\n",
    "\n",
    "plt.subplot(224)\n",
    "stats.probplot(df.vote_average, plot=plt)\n",
    "plt.title('Probplot: Vote Average')\n",
    "plt.show()"
   ]
  },
  {
   "cell_type": "markdown",
   "metadata": {},
   "source": [
    "Os Probability Plots acima (gráficos que medem o quanto uma base e dados se distribui conforme uma distribuição Gaussiana ou Normal), nos mostram que nenhum das variáveis se comporta como uma. A hipótese que tínhamos anteriormente nos gráficos de dispersão, de que as variáveis \"Runtime\" (tempo corrido de tela) e \"Vote Average\" (nota do filme pelo público) seguem tal distribuição não se confirmam. Pelo incrível que pareça, a variável que mais tende a tal é a de popularidade do filme com o público, independendo de sua nota dada pelo mesmo. Porém não se pode dizer que nenhuma das variáveis se distribui de forma gaussiana, anulando essas hipóteses.\n",
    "\n",
    "Agora podemos seguir adiante da Análise exploratória dos dados."
   ]
  },
  {
   "cell_type": "markdown",
   "metadata": {},
   "source": [
    "___\n",
    "## Iniciando a Regressão Linear Múltipla"
   ]
  },
  {
   "cell_type": "code",
   "execution_count": 8,
   "metadata": {
    "collapsed": false
   },
   "outputs": [
    {
     "data": {
      "text/html": [
       "<table class=\"simpletable\">\n",
       "<caption>OLS Regression Results</caption>\n",
       "<tr>\n",
       "  <th>Dep. Variable:</th>         <td>revenue</td>     <th>  R-squared:         </th>  <td>   0.603</td>  \n",
       "</tr>\n",
       "<tr>\n",
       "  <th>Model:</th>                   <td>OLS</td>       <th>  Adj. R-squared:    </th>  <td>   0.603</td>  \n",
       "</tr>\n",
       "<tr>\n",
       "  <th>Method:</th>             <td>Least Squares</td>  <th>  F-statistic:       </th>  <td>   2035.</td>  \n",
       "</tr>\n",
       "<tr>\n",
       "  <th>Date:</th>             <td>Tue, 13 Nov 2018</td> <th>  Prob (F-statistic):</th>   <td>  0.00</td>   \n",
       "</tr>\n",
       "<tr>\n",
       "  <th>Time:</th>                 <td>09:18:19</td>     <th>  Log-Likelihood:    </th> <td>-1.0677e+05</td>\n",
       "</tr>\n",
       "<tr>\n",
       "  <th>No. Observations:</th>      <td>  5369</td>      <th>  AIC:               </th>  <td>2.135e+05</td> \n",
       "</tr>\n",
       "<tr>\n",
       "  <th>Df Residuals:</th>          <td>  5364</td>      <th>  BIC:               </th>  <td>2.136e+05</td> \n",
       "</tr>\n",
       "<tr>\n",
       "  <th>Df Model:</th>              <td>     4</td>      <th>                     </th>      <td> </td>     \n",
       "</tr>\n",
       "<tr>\n",
       "  <th>Covariance Type:</th>      <td>nonrobust</td>    <th>                     </th>      <td> </td>     \n",
       "</tr>\n",
       "</table>\n",
       "<table class=\"simpletable\">\n",
       "<tr>\n",
       "        <td></td>          <th>coef</th>     <th>std err</th>      <th>t</th>      <th>P>|t|</th> <th>[95.0% Conf. Int.]</th> \n",
       "</tr>\n",
       "<tr>\n",
       "  <th>const</th>        <td>-1.761e+08</td> <td> 1.08e+07</td> <td>  -16.266</td> <td> 0.000</td> <td>-1.97e+08 -1.55e+08</td>\n",
       "</tr>\n",
       "<tr>\n",
       "  <th>budget</th>       <td>    2.7534</td> <td>    0.038</td> <td>   71.942</td> <td> 0.000</td> <td>    2.678     2.828</td>\n",
       "</tr>\n",
       "<tr>\n",
       "  <th>popularity</th>   <td> 2.566e+06</td> <td>  1.1e+05</td> <td>   23.235</td> <td> 0.000</td> <td> 2.35e+06  2.78e+06</td>\n",
       "</tr>\n",
       "<tr>\n",
       "  <th>runtime</th>      <td> 2225.7085</td> <td> 7.17e+04</td> <td>    0.031</td> <td> 0.975</td> <td>-1.38e+05  1.43e+05</td>\n",
       "</tr>\n",
       "<tr>\n",
       "  <th>vote_average</th> <td> 2.478e+07</td> <td> 1.66e+06</td> <td>   14.915</td> <td> 0.000</td> <td> 2.15e+07   2.8e+07</td>\n",
       "</tr>\n",
       "</table>\n",
       "<table class=\"simpletable\">\n",
       "<tr>\n",
       "  <th>Omnibus:</th>       <td>4175.948</td> <th>  Durbin-Watson:     </th>  <td>   1.765</td> \n",
       "</tr>\n",
       "<tr>\n",
       "  <th>Prob(Omnibus):</th>  <td> 0.000</td>  <th>  Jarque-Bera (JB):  </th> <td>229343.981</td>\n",
       "</tr>\n",
       "<tr>\n",
       "  <th>Skew:</th>           <td> 3.245</td>  <th>  Prob(JB):          </th>  <td>    0.00</td> \n",
       "</tr>\n",
       "<tr>\n",
       "  <th>Kurtosis:</th>       <td>34.354</td>  <th>  Cond. No.          </th>  <td>3.87e+08</td> \n",
       "</tr>\n",
       "</table>"
      ],
      "text/plain": [
       "<class 'statsmodels.iolib.summary.Summary'>\n",
       "\"\"\"\n",
       "                            OLS Regression Results                            \n",
       "==============================================================================\n",
       "Dep. Variable:                revenue   R-squared:                       0.603\n",
       "Model:                            OLS   Adj. R-squared:                  0.603\n",
       "Method:                 Least Squares   F-statistic:                     2035.\n",
       "Date:                Tue, 13 Nov 2018   Prob (F-statistic):               0.00\n",
       "Time:                        09:18:19   Log-Likelihood:            -1.0677e+05\n",
       "No. Observations:                5369   AIC:                         2.135e+05\n",
       "Df Residuals:                    5364   BIC:                         2.136e+05\n",
       "Df Model:                           4                                         \n",
       "Covariance Type:            nonrobust                                         \n",
       "================================================================================\n",
       "                   coef    std err          t      P>|t|      [95.0% Conf. Int.]\n",
       "--------------------------------------------------------------------------------\n",
       "const        -1.761e+08   1.08e+07    -16.266      0.000     -1.97e+08 -1.55e+08\n",
       "budget           2.7534      0.038     71.942      0.000         2.678     2.828\n",
       "popularity    2.566e+06    1.1e+05     23.235      0.000      2.35e+06  2.78e+06\n",
       "runtime       2225.7085   7.17e+04      0.031      0.975     -1.38e+05  1.43e+05\n",
       "vote_average  2.478e+07   1.66e+06     14.915      0.000      2.15e+07   2.8e+07\n",
       "==============================================================================\n",
       "Omnibus:                     4175.948   Durbin-Watson:                   1.765\n",
       "Prob(Omnibus):                  0.000   Jarque-Bera (JB):           229343.981\n",
       "Skew:                           3.245   Prob(JB):                         0.00\n",
       "Kurtosis:                      34.354   Cond. No.                     3.87e+08\n",
       "==============================================================================\n",
       "\n",
       "Warnings:\n",
       "[1] Standard Errors assume that the covariance matrix of the errors is correctly specified.\n",
       "[2] The condition number is large, 3.87e+08. This might indicate that there are\n",
       "strong multicollinearity or other numerical problems.\n",
       "\"\"\""
      ]
     },
     "execution_count": 8,
     "metadata": {},
     "output_type": "execute_result"
    }
   ],
   "source": [
    "X=df[['budget', 'popularity', 'runtime', 'vote_average']]\n",
    "xc=sm.add_constant(X)\n",
    "model=sm.OLS(df.revenue,xc)\n",
    "results=model.fit()\n",
    "results.summary()"
   ]
  },
  {
   "cell_type": "markdown",
   "metadata": {
    "collapsed": true
   },
   "source": [
    "Com o primeiro teste de regressão linear múltipla feita na célula acima (utilizando a biblioteca Statsmodels), conseguimos ter uma visão inicial do caminho que devemos seguir a partir de agora. Vamos analisar!\n",
    "\n",
    "Primeiro vamos olhar para o nosso **`R`²** que possui o valor de **0.603**. Dado esse valor, sabemos que a regressão ainda tem muito a ser melhorada (quanto mais próximo de **1** o **`R²`**, mais preciso está o modelo), devemos olhar para mais variáveis que possam explicar nosso modelo. No caso utilizamos por enquanto apenas as variáveis quantitativas, mas ainda temos algumas Qualitativas para implementar em nosso modelo.\n",
    "\n",
    "A segunda coisa que devemos dar nossa atenção são as **`P-values`**, sendo que todas as variáveis, exceto uma, possuem um **`p-value`** de **0**, porém temos _runtime_ que possui **0.975**. O problema de um valor alto nesse caso é porque isso prova que a variável em questão está mais atrapalhando do que ajudando a precisão da nossa regressão.\n",
    "\n",
    "As últimas coisas que devemos dar enfoque na primeira análise do modelo são a **`Prob(F-statistic)`**, a **`Prob(Omnibus)`** e a **`Prob(Jarque-Bera)`**. No caso a **`F-statistic`** coloca sob a hipótese nula de que todos os $\\beta$ 's (a não ser o $\\beta_0$) são iguais a zero e verifica o quão próximo tal modelo estaria do então calculado. Dado que a probabildade é **0**, logo podemos afirmar que o modelo precisa de tais variáveis.\n",
    "\n",
    "Já a **`Prob(Omnibus)`** testa se os resíduos do nosso modelo tendem a uma normal. É importante que os resíduos tendam a uma distribuição gaussiana, pois se os resíduos não se distribuírem como uma normal, então a hipótese de que eles se comportam como uma amostra aleatória de uma população maior será dada como uma mentira e isso comprometerá totalmente a veracidade da regressão. No caso temos **$Prob(Omnibus) = 0.00$**, sendo assim não podemos confiar neste modelo. \n",
    "\n",
    "Ainda temos a **`Prob(JB)`** que realiza o teste chamado **`Jarque-Bera`**, que utiliza as mesmas hipóteses que o teste **`Omnibus`**, porém utilizando um método diferente, fazendo uso do grau de assimetria da distribuição (Skew) e do grau de achatamento da mesma (Kurtosis). Um **`Skew`** mais próximo de **0** e um **`Kurtosis`** mais próximo de **3** são os mais precisos para uma distribuição gaussiana dos resíduos, porém ainda temos resíduos _\"reprovados\"_ em ambos os testes."
   ]
  },
  {
   "cell_type": "code",
   "execution_count": 9,
   "metadata": {
    "collapsed": false
   },
   "outputs": [
    {
     "data": {
      "text/html": [
       "<div>\n",
       "<table border=\"1\" class=\"dataframe\">\n",
       "  <thead>\n",
       "    <tr style=\"text-align: right;\">\n",
       "      <th></th>\n",
       "      <th>release_date</th>\n",
       "      <th>popularity</th>\n",
       "      <th>original_title</th>\n",
       "      <th>vote_average</th>\n",
       "      <th>original_language</th>\n",
       "      <th>revenue</th>\n",
       "      <th>production_countries</th>\n",
       "      <th>genres</th>\n",
       "      <th>production_companies</th>\n",
       "      <th>budget</th>\n",
       "    </tr>\n",
       "    <tr>\n",
       "      <th>id</th>\n",
       "      <th></th>\n",
       "      <th></th>\n",
       "      <th></th>\n",
       "      <th></th>\n",
       "      <th></th>\n",
       "      <th></th>\n",
       "      <th></th>\n",
       "      <th></th>\n",
       "      <th></th>\n",
       "      <th></th>\n",
       "    </tr>\n",
       "  </thead>\n",
       "  <tbody>\n",
       "    <tr>\n",
       "      <th>5</th>\n",
       "      <td>1995-12-09</td>\n",
       "      <td>9.026586</td>\n",
       "      <td>Four Rooms</td>\n",
       "      <td>6.5</td>\n",
       "      <td>en</td>\n",
       "      <td>4300000.0</td>\n",
       "      <td>[{'iso_3166_1': 'US', 'name': 'United States o...</td>\n",
       "      <td>[{'id': 80, 'name': 'Crime'}, {'id': 35, 'name...</td>\n",
       "      <td>[{'name': 'Miramax Films', 'id': 14}, {'name':...</td>\n",
       "      <td>4000000.0</td>\n",
       "    </tr>\n",
       "    <tr>\n",
       "      <th>11</th>\n",
       "      <td>1977-05-25</td>\n",
       "      <td>42.149697</td>\n",
       "      <td>Star Wars</td>\n",
       "      <td>8.1</td>\n",
       "      <td>en</td>\n",
       "      <td>775398007.0</td>\n",
       "      <td>[{'iso_3166_1': 'US', 'name': 'United States o...</td>\n",
       "      <td>[{'id': 12, 'name': 'Adventure'}, {'id': 28, '...</td>\n",
       "      <td>[{'name': 'Lucasfilm', 'id': 1}, {'name': 'Twe...</td>\n",
       "      <td>11000000.0</td>\n",
       "    </tr>\n",
       "    <tr>\n",
       "      <th>12</th>\n",
       "      <td>2003-05-30</td>\n",
       "      <td>25.497794</td>\n",
       "      <td>Finding Nemo</td>\n",
       "      <td>7.6</td>\n",
       "      <td>en</td>\n",
       "      <td>940335536.0</td>\n",
       "      <td>[{'iso_3166_1': 'US', 'name': 'United States o...</td>\n",
       "      <td>[{'id': 16, 'name': 'Animation'}, {'id': 10751...</td>\n",
       "      <td>[{'name': 'Pixar Animation Studios', 'id': 3}]</td>\n",
       "      <td>94000000.0</td>\n",
       "    </tr>\n",
       "  </tbody>\n",
       "</table>\n",
       "</div>"
      ],
      "text/plain": [
       "   release_date  popularity original_title  vote_average original_language  \\\n",
       "id                                                                           \n",
       "5    1995-12-09    9.026586     Four Rooms           6.5                en   \n",
       "11   1977-05-25   42.149697      Star Wars           8.1                en   \n",
       "12   2003-05-30   25.497794   Finding Nemo           7.6                en   \n",
       "\n",
       "        revenue                               production_countries  \\\n",
       "id                                                                   \n",
       "5     4300000.0  [{'iso_3166_1': 'US', 'name': 'United States o...   \n",
       "11  775398007.0  [{'iso_3166_1': 'US', 'name': 'United States o...   \n",
       "12  940335536.0  [{'iso_3166_1': 'US', 'name': 'United States o...   \n",
       "\n",
       "                                               genres  \\\n",
       "id                                                      \n",
       "5   [{'id': 80, 'name': 'Crime'}, {'id': 35, 'name...   \n",
       "11  [{'id': 12, 'name': 'Adventure'}, {'id': 28, '...   \n",
       "12  [{'id': 16, 'name': 'Animation'}, {'id': 10751...   \n",
       "\n",
       "                                 production_companies      budget  \n",
       "id                                                                 \n",
       "5   [{'name': 'Miramax Films', 'id': 14}, {'name':...   4000000.0  \n",
       "11  [{'name': 'Lucasfilm', 'id': 1}, {'name': 'Twe...  11000000.0  \n",
       "12     [{'name': 'Pixar Animation Studios', 'id': 3}]  94000000.0  "
      ]
     },
     "execution_count": 9,
     "metadata": {},
     "output_type": "execute_result"
    }
   ],
   "source": [
    "# Removendo a coluna df.runtime\n",
    "df=df.loc[:,['release_date','popularity','original_title','vote_average','original_language','revenue','production_countries',\n",
    "            'genres','production_companies','budget']]\n",
    "df.head(3)"
   ]
  },
  {
   "cell_type": "code",
   "execution_count": 10,
   "metadata": {
    "collapsed": false
   },
   "outputs": [],
   "source": [
    "# As colunas de empresas e países que produziram estavam em um dicionário que estava dentro de uma string, então montamos a \n",
    "# função abaixo que transformam o conteudo de cada filme em uma lista a ser manipulada\n",
    "def dicio(df): #Ex: df = df.production_countries\n",
    "    count=0\n",
    "    dicio=''\n",
    "    for i in df:\n",
    "        if i==\"{\":\n",
    "            count=1\n",
    "        if count==1:\n",
    "            dicio+=i\n",
    "        if i==\"}\":\n",
    "            dicio+=';'\n",
    "            count=2\n",
    "        if i==\"]\":\n",
    "            break\n",
    "    dicio=dicio.split(';')\n",
    "    del(dicio[-1]) #removendo string vazia\n",
    "    return dicio"
   ]
  },
  {
   "cell_type": "code",
   "execution_count": 11,
   "metadata": {
    "collapsed": false,
    "scrolled": true
   },
   "outputs": [],
   "source": [
    "# Agora precisamos percorrer todos os filmes com a função dicio\n",
    "dicio2=[]\n",
    "for i in df.index:\n",
    "    dicio2.append(dicio(df.production_countries[i]))"
   ]
  },
  {
   "cell_type": "code",
   "execution_count": 12,
   "metadata": {
    "collapsed": false,
    "scrolled": true
   },
   "outputs": [],
   "source": [
    "# Agora, para cada filme na lista dicio2, iremos transformar cada empresa/país de string para dicionário\n",
    "for x in range(len(dicio2)):\n",
    "    a=[]\n",
    "    country=[]\n",
    "    for filme in dicio2[x]:\n",
    "        a.append(eval(filme))\n",
    "    dicio2[x]=a"
   ]
  },
  {
   "cell_type": "code",
   "execution_count": 13,
   "metadata": {
    "collapsed": false
   },
   "outputs": [],
   "source": [
    "# Iremos manipular os dicionários e extrair somente as siglas dos países/empresas\n",
    "country=[]\n",
    "for filme in dicio2:\n",
    "    film=[]\n",
    "    for pais in filme:\n",
    "        sigla=pais['iso_3166_1']\n",
    "        film.append(sigla)\n",
    "    country.append(film)"
   ]
  },
  {
   "cell_type": "code",
   "execution_count": 19,
   "metadata": {
    "collapsed": false
   },
   "outputs": [
    {
     "data": {
      "text/html": [
       "<div>\n",
       "<table border=\"1\" class=\"dataframe\">\n",
       "  <thead>\n",
       "    <tr style=\"text-align: right;\">\n",
       "      <th></th>\n",
       "      <th>release_date</th>\n",
       "      <th>popularity</th>\n",
       "      <th>original_title</th>\n",
       "      <th>vote_average</th>\n",
       "      <th>original_language</th>\n",
       "      <th>revenue</th>\n",
       "      <th>production_countries</th>\n",
       "      <th>genres</th>\n",
       "      <th>production_companies</th>\n",
       "      <th>budget</th>\n",
       "      <th>Country</th>\n",
       "    </tr>\n",
       "    <tr>\n",
       "      <th>id</th>\n",
       "      <th></th>\n",
       "      <th></th>\n",
       "      <th></th>\n",
       "      <th></th>\n",
       "      <th></th>\n",
       "      <th></th>\n",
       "      <th></th>\n",
       "      <th></th>\n",
       "      <th></th>\n",
       "      <th></th>\n",
       "      <th></th>\n",
       "    </tr>\n",
       "  </thead>\n",
       "  <tbody>\n",
       "    <tr>\n",
       "      <th>5</th>\n",
       "      <td>1995-12-09</td>\n",
       "      <td>9.026586</td>\n",
       "      <td>Four Rooms</td>\n",
       "      <td>6.5</td>\n",
       "      <td>1</td>\n",
       "      <td>4300000.0</td>\n",
       "      <td>[{'iso_3166_1': 'US', 'name': 'United States o...</td>\n",
       "      <td>[{'id': 80, 'name': 'Crime'}, {'id': 35, 'name...</td>\n",
       "      <td>[{'name': 'Miramax Films', 'id': 14}, {'name':...</td>\n",
       "      <td>4000000.0</td>\n",
       "      <td>[US]</td>\n",
       "    </tr>\n",
       "    <tr>\n",
       "      <th>11</th>\n",
       "      <td>1977-05-25</td>\n",
       "      <td>42.149697</td>\n",
       "      <td>Star Wars</td>\n",
       "      <td>8.1</td>\n",
       "      <td>1</td>\n",
       "      <td>775398007.0</td>\n",
       "      <td>[{'iso_3166_1': 'US', 'name': 'United States o...</td>\n",
       "      <td>[{'id': 12, 'name': 'Adventure'}, {'id': 28, '...</td>\n",
       "      <td>[{'name': 'Lucasfilm', 'id': 1}, {'name': 'Twe...</td>\n",
       "      <td>11000000.0</td>\n",
       "      <td>[DE, US]</td>\n",
       "    </tr>\n",
       "    <tr>\n",
       "      <th>12</th>\n",
       "      <td>2003-05-30</td>\n",
       "      <td>25.497794</td>\n",
       "      <td>Finding Nemo</td>\n",
       "      <td>7.6</td>\n",
       "      <td>1</td>\n",
       "      <td>940335536.0</td>\n",
       "      <td>[{'iso_3166_1': 'US', 'name': 'United States o...</td>\n",
       "      <td>[{'id': 16, 'name': 'Animation'}, {'id': 10751...</td>\n",
       "      <td>[{'name': 'Pixar Animation Studios', 'id': 3}]</td>\n",
       "      <td>94000000.0</td>\n",
       "      <td>[GB]</td>\n",
       "    </tr>\n",
       "    <tr>\n",
       "      <th>13</th>\n",
       "      <td>1994-07-06</td>\n",
       "      <td>48.307194</td>\n",
       "      <td>Forrest Gump</td>\n",
       "      <td>8.2</td>\n",
       "      <td>1</td>\n",
       "      <td>677945399.0</td>\n",
       "      <td>[{'iso_3166_1': 'US', 'name': 'United States o...</td>\n",
       "      <td>[{'id': 35, 'name': 'Comedy'}, {'id': 18, 'nam...</td>\n",
       "      <td>[{'name': 'Paramount Pictures', 'id': 4}]</td>\n",
       "      <td>55000000.0</td>\n",
       "      <td>[US]</td>\n",
       "    </tr>\n",
       "    <tr>\n",
       "      <th>14</th>\n",
       "      <td>1999-09-15</td>\n",
       "      <td>20.726578</td>\n",
       "      <td>American Beauty</td>\n",
       "      <td>7.9</td>\n",
       "      <td>1</td>\n",
       "      <td>356296601.0</td>\n",
       "      <td>[{'iso_3166_1': 'US', 'name': 'United States o...</td>\n",
       "      <td>[{'id': 18, 'name': 'Drama'}]</td>\n",
       "      <td>[{'name': 'DreamWorks SKG', 'id': 27}, {'name'...</td>\n",
       "      <td>15000000.0</td>\n",
       "      <td>[US]</td>\n",
       "    </tr>\n",
       "    <tr>\n",
       "      <th>15</th>\n",
       "      <td>1941-04-30</td>\n",
       "      <td>15.811921</td>\n",
       "      <td>Citizen Kane</td>\n",
       "      <td>8.0</td>\n",
       "      <td>1</td>\n",
       "      <td>23217674.0</td>\n",
       "      <td>[{'iso_3166_1': 'US', 'name': 'United States o...</td>\n",
       "      <td>[{'id': 9648, 'name': 'Mystery'}, {'id': 18, '...</td>\n",
       "      <td>[{'name': 'RKO Radio Pictures', 'id': 6}, {'na...</td>\n",
       "      <td>839727.0</td>\n",
       "      <td>[US]</td>\n",
       "    </tr>\n",
       "    <tr>\n",
       "      <th>16</th>\n",
       "      <td>2000-05-17</td>\n",
       "      <td>10.684806</td>\n",
       "      <td>Dancer in the Dark</td>\n",
       "      <td>7.7</td>\n",
       "      <td>1</td>\n",
       "      <td>40031879.0</td>\n",
       "      <td>[{'iso_3166_1': 'AR', 'name': 'Argentina'}, {'...</td>\n",
       "      <td>[{'id': 18, 'name': 'Drama'}, {'id': 80, 'name...</td>\n",
       "      <td>[{'name': 'Fine Line Features', 'id': 8}, {'na...</td>\n",
       "      <td>12800000.0</td>\n",
       "      <td>[US]</td>\n",
       "    </tr>\n",
       "    <tr>\n",
       "      <th>18</th>\n",
       "      <td>1997-05-07</td>\n",
       "      <td>24.305260</td>\n",
       "      <td>The Fifth Element</td>\n",
       "      <td>7.3</td>\n",
       "      <td>1</td>\n",
       "      <td>263920180.0</td>\n",
       "      <td>[{'iso_3166_1': 'FR', 'name': 'France'}]</td>\n",
       "      <td>[{'id': 12, 'name': 'Adventure'}, {'id': 14, '...</td>\n",
       "      <td>[{'name': 'Columbia Pictures', 'id': 5}, {'nam...</td>\n",
       "      <td>90000000.0</td>\n",
       "      <td>[US]</td>\n",
       "    </tr>\n",
       "    <tr>\n",
       "      <th>19</th>\n",
       "      <td>1927-01-10</td>\n",
       "      <td>14.487867</td>\n",
       "      <td>Metropolis</td>\n",
       "      <td>8.0</td>\n",
       "      <td>1</td>\n",
       "      <td>650422.0</td>\n",
       "      <td>[{'iso_3166_1': 'DE', 'name': 'Germany'}]</td>\n",
       "      <td>[{'id': 18, 'name': 'Drama'}, {'id': 878, 'nam...</td>\n",
       "      <td>[{'name': 'Paramount Pictures', 'id': 4}, {'na...</td>\n",
       "      <td>92620000.0</td>\n",
       "      <td>[US, CA, DE]</td>\n",
       "    </tr>\n",
       "    <tr>\n",
       "      <th>22</th>\n",
       "      <td>2003-07-09</td>\n",
       "      <td>47.326665</td>\n",
       "      <td>Pirates of the Caribbean: The Curse of the Bla...</td>\n",
       "      <td>7.5</td>\n",
       "      <td>1</td>\n",
       "      <td>655011224.0</td>\n",
       "      <td>[{'iso_3166_1': 'US', 'name': 'United States o...</td>\n",
       "      <td>[{'id': 12, 'name': 'Adventure'}, {'id': 14, '...</td>\n",
       "      <td>[{'name': 'Walt Disney Pictures', 'id': 2}, {'...</td>\n",
       "      <td>140000000.0</td>\n",
       "      <td>[ES]</td>\n",
       "    </tr>\n",
       "  </tbody>\n",
       "</table>\n",
       "</div>"
      ],
      "text/plain": [
       "   release_date  popularity  \\\n",
       "id                            \n",
       "5    1995-12-09    9.026586   \n",
       "11   1977-05-25   42.149697   \n",
       "12   2003-05-30   25.497794   \n",
       "13   1994-07-06   48.307194   \n",
       "14   1999-09-15   20.726578   \n",
       "15   1941-04-30   15.811921   \n",
       "16   2000-05-17   10.684806   \n",
       "18   1997-05-07   24.305260   \n",
       "19   1927-01-10   14.487867   \n",
       "22   2003-07-09   47.326665   \n",
       "\n",
       "                                       original_title  vote_average  \\\n",
       "id                                                                    \n",
       "5                                          Four Rooms           6.5   \n",
       "11                                          Star Wars           8.1   \n",
       "12                                       Finding Nemo           7.6   \n",
       "13                                       Forrest Gump           8.2   \n",
       "14                                    American Beauty           7.9   \n",
       "15                                       Citizen Kane           8.0   \n",
       "16                                 Dancer in the Dark           7.7   \n",
       "18                                  The Fifth Element           7.3   \n",
       "19                                         Metropolis           8.0   \n",
       "22  Pirates of the Caribbean: The Curse of the Bla...           7.5   \n",
       "\n",
       "    original_language      revenue  \\\n",
       "id                                   \n",
       "5                   1    4300000.0   \n",
       "11                  1  775398007.0   \n",
       "12                  1  940335536.0   \n",
       "13                  1  677945399.0   \n",
       "14                  1  356296601.0   \n",
       "15                  1   23217674.0   \n",
       "16                  1   40031879.0   \n",
       "18                  1  263920180.0   \n",
       "19                  1     650422.0   \n",
       "22                  1  655011224.0   \n",
       "\n",
       "                                 production_countries  \\\n",
       "id                                                      \n",
       "5   [{'iso_3166_1': 'US', 'name': 'United States o...   \n",
       "11  [{'iso_3166_1': 'US', 'name': 'United States o...   \n",
       "12  [{'iso_3166_1': 'US', 'name': 'United States o...   \n",
       "13  [{'iso_3166_1': 'US', 'name': 'United States o...   \n",
       "14  [{'iso_3166_1': 'US', 'name': 'United States o...   \n",
       "15  [{'iso_3166_1': 'US', 'name': 'United States o...   \n",
       "16  [{'iso_3166_1': 'AR', 'name': 'Argentina'}, {'...   \n",
       "18           [{'iso_3166_1': 'FR', 'name': 'France'}]   \n",
       "19          [{'iso_3166_1': 'DE', 'name': 'Germany'}]   \n",
       "22  [{'iso_3166_1': 'US', 'name': 'United States o...   \n",
       "\n",
       "                                               genres  \\\n",
       "id                                                      \n",
       "5   [{'id': 80, 'name': 'Crime'}, {'id': 35, 'name...   \n",
       "11  [{'id': 12, 'name': 'Adventure'}, {'id': 28, '...   \n",
       "12  [{'id': 16, 'name': 'Animation'}, {'id': 10751...   \n",
       "13  [{'id': 35, 'name': 'Comedy'}, {'id': 18, 'nam...   \n",
       "14                      [{'id': 18, 'name': 'Drama'}]   \n",
       "15  [{'id': 9648, 'name': 'Mystery'}, {'id': 18, '...   \n",
       "16  [{'id': 18, 'name': 'Drama'}, {'id': 80, 'name...   \n",
       "18  [{'id': 12, 'name': 'Adventure'}, {'id': 14, '...   \n",
       "19  [{'id': 18, 'name': 'Drama'}, {'id': 878, 'nam...   \n",
       "22  [{'id': 12, 'name': 'Adventure'}, {'id': 14, '...   \n",
       "\n",
       "                                 production_companies       budget  \\\n",
       "id                                                                   \n",
       "5   [{'name': 'Miramax Films', 'id': 14}, {'name':...    4000000.0   \n",
       "11  [{'name': 'Lucasfilm', 'id': 1}, {'name': 'Twe...   11000000.0   \n",
       "12     [{'name': 'Pixar Animation Studios', 'id': 3}]   94000000.0   \n",
       "13          [{'name': 'Paramount Pictures', 'id': 4}]   55000000.0   \n",
       "14  [{'name': 'DreamWorks SKG', 'id': 27}, {'name'...   15000000.0   \n",
       "15  [{'name': 'RKO Radio Pictures', 'id': 6}, {'na...     839727.0   \n",
       "16  [{'name': 'Fine Line Features', 'id': 8}, {'na...   12800000.0   \n",
       "18  [{'name': 'Columbia Pictures', 'id': 5}, {'nam...   90000000.0   \n",
       "19  [{'name': 'Paramount Pictures', 'id': 4}, {'na...   92620000.0   \n",
       "22  [{'name': 'Walt Disney Pictures', 'id': 2}, {'...  140000000.0   \n",
       "\n",
       "         Country  \n",
       "id                \n",
       "5           [US]  \n",
       "11      [DE, US]  \n",
       "12          [GB]  \n",
       "13          [US]  \n",
       "14          [US]  \n",
       "15          [US]  \n",
       "16          [US]  \n",
       "18          [US]  \n",
       "19  [US, CA, DE]  \n",
       "22          [ES]  "
      ]
     },
     "execution_count": 19,
     "metadata": {},
     "output_type": "execute_result"
    }
   ],
   "source": [
    "# Colocaremos uma nova coluna com somente os dados necessários\n",
    "country=pd.Series(country)\n",
    "df['Country']=country\n",
    "df.head(10)"
   ]
  },
  {
   "cell_type": "code",
   "execution_count": 17,
   "metadata": {
    "collapsed": false
   },
   "outputs": [
    {
     "ename": "TypeError",
     "evalue": "unhashable type: 'list'",
     "output_type": "error",
     "traceback": [
      "\u001b[0;31m---------------------------------------------------------------------------\u001b[0m",
      "\u001b[0;31mTypeError\u001b[0m                                 Traceback (most recent call last)",
      "\u001b[0;32mC:\\Users\\Lucas\\Anaconda3\\lib\\site-packages\\pandas\\core\\categorical.py\u001b[0m in \u001b[0;36m__init__\u001b[0;34m(self, values, categories, ordered, name, fastpath)\u001b[0m\n\u001b[1;32m    287\u001b[0m             \u001b[1;32mtry\u001b[0m\u001b[1;33m:\u001b[0m\u001b[1;33m\u001b[0m\u001b[0m\n\u001b[0;32m--> 288\u001b[0;31m                 \u001b[0mcodes\u001b[0m\u001b[1;33m,\u001b[0m \u001b[0mcategories\u001b[0m \u001b[1;33m=\u001b[0m \u001b[0mfactorize\u001b[0m\u001b[1;33m(\u001b[0m\u001b[0mvalues\u001b[0m\u001b[1;33m,\u001b[0m \u001b[0msort\u001b[0m\u001b[1;33m=\u001b[0m\u001b[1;32mTrue\u001b[0m\u001b[1;33m)\u001b[0m\u001b[1;33m\u001b[0m\u001b[0m\n\u001b[0m\u001b[1;32m    289\u001b[0m             \u001b[1;32mexcept\u001b[0m \u001b[0mTypeError\u001b[0m\u001b[1;33m:\u001b[0m\u001b[1;33m\u001b[0m\u001b[0m\n",
      "\u001b[0;32mC:\\Users\\Lucas\\Anaconda3\\lib\\site-packages\\pandas\\core\\algorithms.py\u001b[0m in \u001b[0;36mfactorize\u001b[0;34m(values, sort, order, na_sentinel, size_hint)\u001b[0m\n\u001b[1;32m    312\u001b[0m     \u001b[0muniques\u001b[0m \u001b[1;33m=\u001b[0m \u001b[0mvec_klass\u001b[0m\u001b[1;33m(\u001b[0m\u001b[1;33m)\u001b[0m\u001b[1;33m\u001b[0m\u001b[0m\n\u001b[0;32m--> 313\u001b[0;31m     \u001b[0mlabels\u001b[0m \u001b[1;33m=\u001b[0m \u001b[0mtable\u001b[0m\u001b[1;33m.\u001b[0m\u001b[0mget_labels\u001b[0m\u001b[1;33m(\u001b[0m\u001b[0mvals\u001b[0m\u001b[1;33m,\u001b[0m \u001b[0muniques\u001b[0m\u001b[1;33m,\u001b[0m \u001b[1;36m0\u001b[0m\u001b[1;33m,\u001b[0m \u001b[0mna_sentinel\u001b[0m\u001b[1;33m,\u001b[0m \u001b[1;32mTrue\u001b[0m\u001b[1;33m)\u001b[0m\u001b[1;33m\u001b[0m\u001b[0m\n\u001b[0m\u001b[1;32m    314\u001b[0m \u001b[1;33m\u001b[0m\u001b[0m\n",
      "\u001b[0;32mpandas\\src\\hashtable_class_helper.pxi\u001b[0m in \u001b[0;36mpandas.hashtable.PyObjectHashTable.get_labels (pandas\\hashtable.c:15447)\u001b[0;34m()\u001b[0m\n",
      "\u001b[0;31mTypeError\u001b[0m: unhashable type: 'list'",
      "\nDuring handling of the above exception, another exception occurred:\n",
      "\u001b[0;31mTypeError\u001b[0m                                 Traceback (most recent call last)",
      "\u001b[0;32m<ipython-input-17-9db1b04c332f>\u001b[0m in \u001b[0;36m<module>\u001b[0;34m()\u001b[0m\n\u001b[1;32m      1\u001b[0m \u001b[0mdf\u001b[0m\u001b[1;33m.\u001b[0m\u001b[0moriginal_language\u001b[0m\u001b[1;33m=\u001b[0m\u001b[0mpd\u001b[0m\u001b[1;33m.\u001b[0m\u001b[0mget_dummies\u001b[0m\u001b[1;33m(\u001b[0m\u001b[0mdf\u001b[0m\u001b[1;33m.\u001b[0m\u001b[0moriginal_language\u001b[0m\u001b[1;33m)\u001b[0m\u001b[1;33m\u001b[0m\u001b[0m\n\u001b[0;32m----> 2\u001b[0;31m \u001b[0mdf\u001b[0m\u001b[1;33m.\u001b[0m\u001b[0mCountry\u001b[0m\u001b[1;33m=\u001b[0m\u001b[0mpd\u001b[0m\u001b[1;33m.\u001b[0m\u001b[0mget_dummies\u001b[0m\u001b[1;33m(\u001b[0m\u001b[0mdf\u001b[0m\u001b[1;33m.\u001b[0m\u001b[0mCountry\u001b[0m\u001b[1;33m)\u001b[0m\u001b[1;33m\u001b[0m\u001b[0m\n\u001b[0m\u001b[1;32m      3\u001b[0m \u001b[0mX\u001b[0m\u001b[1;33m=\u001b[0m\u001b[0mdf\u001b[0m\u001b[1;33m[\u001b[0m\u001b[1;33m[\u001b[0m\u001b[1;34m'budget'\u001b[0m\u001b[1;33m,\u001b[0m \u001b[1;34m'popularity'\u001b[0m\u001b[1;33m,\u001b[0m \u001b[1;34m'vote_average'\u001b[0m\u001b[1;33m,\u001b[0m \u001b[1;34m'original_language'\u001b[0m\u001b[1;33m,\u001b[0m \u001b[1;34m'Country'\u001b[0m\u001b[1;33m]\u001b[0m\u001b[1;33m]\u001b[0m\u001b[1;33m\u001b[0m\u001b[0m\n\u001b[1;32m      4\u001b[0m \u001b[0mxc\u001b[0m\u001b[1;33m=\u001b[0m\u001b[0msm\u001b[0m\u001b[1;33m.\u001b[0m\u001b[0madd_constant\u001b[0m\u001b[1;33m(\u001b[0m\u001b[0mX\u001b[0m\u001b[1;33m)\u001b[0m\u001b[1;33m\u001b[0m\u001b[0m\n\u001b[1;32m      5\u001b[0m \u001b[0mmodel\u001b[0m\u001b[1;33m=\u001b[0m\u001b[0msm\u001b[0m\u001b[1;33m.\u001b[0m\u001b[0mOLS\u001b[0m\u001b[1;33m(\u001b[0m\u001b[0mdf\u001b[0m\u001b[1;33m.\u001b[0m\u001b[0mrevenue\u001b[0m\u001b[1;33m,\u001b[0m\u001b[0mxc\u001b[0m\u001b[1;33m)\u001b[0m\u001b[1;33m\u001b[0m\u001b[0m\n",
      "\u001b[0;32mC:\\Users\\Lucas\\Anaconda3\\lib\\site-packages\\pandas\\core\\reshape.py\u001b[0m in \u001b[0;36mget_dummies\u001b[0;34m(data, prefix, prefix_sep, dummy_na, columns, sparse, drop_first)\u001b[0m\n\u001b[1;32m   1102\u001b[0m     \u001b[1;32melse\u001b[0m\u001b[1;33m:\u001b[0m\u001b[1;33m\u001b[0m\u001b[0m\n\u001b[1;32m   1103\u001b[0m         result = _get_dummies_1d(data, prefix, prefix_sep, dummy_na,\n\u001b[0;32m-> 1104\u001b[0;31m                                  sparse=sparse, drop_first=drop_first)\n\u001b[0m\u001b[1;32m   1105\u001b[0m     \u001b[1;32mreturn\u001b[0m \u001b[0mresult\u001b[0m\u001b[1;33m\u001b[0m\u001b[0m\n\u001b[1;32m   1106\u001b[0m \u001b[1;33m\u001b[0m\u001b[0m\n",
      "\u001b[0;32mC:\\Users\\Lucas\\Anaconda3\\lib\\site-packages\\pandas\\core\\reshape.py\u001b[0m in \u001b[0;36m_get_dummies_1d\u001b[0;34m(data, prefix, prefix_sep, dummy_na, sparse, drop_first)\u001b[0m\n\u001b[1;32m   1109\u001b[0m                     sparse=False, drop_first=False):\n\u001b[1;32m   1110\u001b[0m     \u001b[1;31m# Series avoids inconsistent NaN handling\u001b[0m\u001b[1;33m\u001b[0m\u001b[1;33m\u001b[0m\u001b[0m\n\u001b[0;32m-> 1111\u001b[0;31m     \u001b[0mcodes\u001b[0m\u001b[1;33m,\u001b[0m \u001b[0mlevels\u001b[0m \u001b[1;33m=\u001b[0m \u001b[0m_factorize_from_iterable\u001b[0m\u001b[1;33m(\u001b[0m\u001b[0mSeries\u001b[0m\u001b[1;33m(\u001b[0m\u001b[0mdata\u001b[0m\u001b[1;33m)\u001b[0m\u001b[1;33m)\u001b[0m\u001b[1;33m\u001b[0m\u001b[0m\n\u001b[0m\u001b[1;32m   1112\u001b[0m \u001b[1;33m\u001b[0m\u001b[0m\n\u001b[1;32m   1113\u001b[0m     \u001b[1;32mdef\u001b[0m \u001b[0mget_empty_Frame\u001b[0m\u001b[1;33m(\u001b[0m\u001b[0mdata\u001b[0m\u001b[1;33m,\u001b[0m \u001b[0msparse\u001b[0m\u001b[1;33m)\u001b[0m\u001b[1;33m:\u001b[0m\u001b[1;33m\u001b[0m\u001b[0m\n",
      "\u001b[0;32mC:\\Users\\Lucas\\Anaconda3\\lib\\site-packages\\pandas\\core\\categorical.py\u001b[0m in \u001b[0;36m_factorize_from_iterable\u001b[0;34m(values)\u001b[0m\n\u001b[1;32m   2038\u001b[0m         \u001b[0mcodes\u001b[0m \u001b[1;33m=\u001b[0m \u001b[0mvalues\u001b[0m\u001b[1;33m.\u001b[0m\u001b[0mcodes\u001b[0m\u001b[1;33m\u001b[0m\u001b[0m\n\u001b[1;32m   2039\u001b[0m     \u001b[1;32melse\u001b[0m\u001b[1;33m:\u001b[0m\u001b[1;33m\u001b[0m\u001b[0m\n\u001b[0;32m-> 2040\u001b[0;31m         \u001b[0mcat\u001b[0m \u001b[1;33m=\u001b[0m \u001b[0mCategorical\u001b[0m\u001b[1;33m(\u001b[0m\u001b[0mvalues\u001b[0m\u001b[1;33m,\u001b[0m \u001b[0mordered\u001b[0m\u001b[1;33m=\u001b[0m\u001b[1;32mTrue\u001b[0m\u001b[1;33m)\u001b[0m\u001b[1;33m\u001b[0m\u001b[0m\n\u001b[0m\u001b[1;32m   2041\u001b[0m         \u001b[0mcategories\u001b[0m \u001b[1;33m=\u001b[0m \u001b[0mcat\u001b[0m\u001b[1;33m.\u001b[0m\u001b[0mcategories\u001b[0m\u001b[1;33m\u001b[0m\u001b[0m\n\u001b[1;32m   2042\u001b[0m         \u001b[0mcodes\u001b[0m \u001b[1;33m=\u001b[0m \u001b[0mcat\u001b[0m\u001b[1;33m.\u001b[0m\u001b[0mcodes\u001b[0m\u001b[1;33m\u001b[0m\u001b[0m\n",
      "\u001b[0;32mC:\\Users\\Lucas\\Anaconda3\\lib\\site-packages\\pandas\\core\\categorical.py\u001b[0m in \u001b[0;36m__init__\u001b[0;34m(self, values, categories, ordered, name, fastpath)\u001b[0m\n\u001b[1;32m    288\u001b[0m                 \u001b[0mcodes\u001b[0m\u001b[1;33m,\u001b[0m \u001b[0mcategories\u001b[0m \u001b[1;33m=\u001b[0m \u001b[0mfactorize\u001b[0m\u001b[1;33m(\u001b[0m\u001b[0mvalues\u001b[0m\u001b[1;33m,\u001b[0m \u001b[0msort\u001b[0m\u001b[1;33m=\u001b[0m\u001b[1;32mTrue\u001b[0m\u001b[1;33m)\u001b[0m\u001b[1;33m\u001b[0m\u001b[0m\n\u001b[1;32m    289\u001b[0m             \u001b[1;32mexcept\u001b[0m \u001b[0mTypeError\u001b[0m\u001b[1;33m:\u001b[0m\u001b[1;33m\u001b[0m\u001b[0m\n\u001b[0;32m--> 290\u001b[0;31m                 \u001b[0mcodes\u001b[0m\u001b[1;33m,\u001b[0m \u001b[0mcategories\u001b[0m \u001b[1;33m=\u001b[0m \u001b[0mfactorize\u001b[0m\u001b[1;33m(\u001b[0m\u001b[0mvalues\u001b[0m\u001b[1;33m,\u001b[0m \u001b[0msort\u001b[0m\u001b[1;33m=\u001b[0m\u001b[1;32mFalse\u001b[0m\u001b[1;33m)\u001b[0m\u001b[1;33m\u001b[0m\u001b[0m\n\u001b[0m\u001b[1;32m    291\u001b[0m                 \u001b[1;32mif\u001b[0m \u001b[0mordered\u001b[0m\u001b[1;33m:\u001b[0m\u001b[1;33m\u001b[0m\u001b[0m\n\u001b[1;32m    292\u001b[0m                     \u001b[1;31m# raise, as we don't have a sortable data structure and so\u001b[0m\u001b[1;33m\u001b[0m\u001b[1;33m\u001b[0m\u001b[0m\n",
      "\u001b[0;32mC:\\Users\\Lucas\\Anaconda3\\lib\\site-packages\\pandas\\core\\algorithms.py\u001b[0m in \u001b[0;36mfactorize\u001b[0;34m(values, sort, order, na_sentinel, size_hint)\u001b[0m\n\u001b[1;32m    311\u001b[0m     \u001b[0mtable\u001b[0m \u001b[1;33m=\u001b[0m \u001b[0mhash_klass\u001b[0m\u001b[1;33m(\u001b[0m\u001b[0msize_hint\u001b[0m \u001b[1;32mor\u001b[0m \u001b[0mlen\u001b[0m\u001b[1;33m(\u001b[0m\u001b[0mvals\u001b[0m\u001b[1;33m)\u001b[0m\u001b[1;33m)\u001b[0m\u001b[1;33m\u001b[0m\u001b[0m\n\u001b[1;32m    312\u001b[0m     \u001b[0muniques\u001b[0m \u001b[1;33m=\u001b[0m \u001b[0mvec_klass\u001b[0m\u001b[1;33m(\u001b[0m\u001b[1;33m)\u001b[0m\u001b[1;33m\u001b[0m\u001b[0m\n\u001b[0;32m--> 313\u001b[0;31m     \u001b[0mlabels\u001b[0m \u001b[1;33m=\u001b[0m \u001b[0mtable\u001b[0m\u001b[1;33m.\u001b[0m\u001b[0mget_labels\u001b[0m\u001b[1;33m(\u001b[0m\u001b[0mvals\u001b[0m\u001b[1;33m,\u001b[0m \u001b[0muniques\u001b[0m\u001b[1;33m,\u001b[0m \u001b[1;36m0\u001b[0m\u001b[1;33m,\u001b[0m \u001b[0mna_sentinel\u001b[0m\u001b[1;33m,\u001b[0m \u001b[1;32mTrue\u001b[0m\u001b[1;33m)\u001b[0m\u001b[1;33m\u001b[0m\u001b[0m\n\u001b[0m\u001b[1;32m    314\u001b[0m \u001b[1;33m\u001b[0m\u001b[0m\n\u001b[1;32m    315\u001b[0m     \u001b[0mlabels\u001b[0m \u001b[1;33m=\u001b[0m \u001b[0m_ensure_platform_int\u001b[0m\u001b[1;33m(\u001b[0m\u001b[0mlabels\u001b[0m\u001b[1;33m)\u001b[0m\u001b[1;33m\u001b[0m\u001b[0m\n",
      "\u001b[0;32mpandas\\src\\hashtable_class_helper.pxi\u001b[0m in \u001b[0;36mpandas.hashtable.PyObjectHashTable.get_labels (pandas\\hashtable.c:15447)\u001b[0;34m()\u001b[0m\n",
      "\u001b[0;31mTypeError\u001b[0m: unhashable type: 'list'"
     ]
    }
   ],
   "source": [
    "df.original_language=pd.get_dummies(df.original_language)\n",
    "#df.Country=pd.get_dummies(df.Country)\n",
    "X=df[['budget', 'popularity', 'vote_average', 'original_language']]\n",
    "xc=sm.add_constant(X)\n",
    "model=sm.OLS(df.revenue,xc)\n",
    "results=model.fit()\n",
    "results.summary()"
   ]
  },
  {
   "cell_type": "code",
   "execution_count": null,
   "metadata": {
    "collapsed": false
   },
   "outputs": [],
   "source": []
  },
  {
   "cell_type": "code",
   "execution_count": null,
   "metadata": {
    "collapsed": false
   },
   "outputs": [],
   "source": []
  }
 ],
 "metadata": {
  "kernelspec": {
   "display_name": "Python 3",
   "language": "python",
   "name": "python3"
  },
  "language_info": {
   "codemirror_mode": {
    "name": "ipython",
    "version": 3
   },
   "file_extension": ".py",
   "mimetype": "text/x-python",
   "name": "python",
   "nbconvert_exporter": "python",
   "pygments_lexer": "ipython3",
   "version": "3.6.0"
  }
 },
 "nbformat": 4,
 "nbformat_minor": 2
}
