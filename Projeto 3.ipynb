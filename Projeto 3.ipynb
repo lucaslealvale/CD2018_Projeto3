{
 "cells": [
  {
   "cell_type": "markdown",
   "metadata": {},
   "source": [
    "# Projeto 3\n",
    "\n",
    "<b>Tema:</b> Estimar o retorno financeiro de um filme\n",
    "\n",
    "<b>Técnica:</b> Regressão Linear\n",
    "\n",
    "<b>Grupo:</b> Lucas Leal Vale, Matheus Augusto Soares, Rafael Almada\n",
    "___"
   ]
  },
  {
   "cell_type": "code",
   "execution_count": 1,
   "metadata": {
    "collapsed": true
   },
   "outputs": [],
   "source": [
    "import pandas as pd\n",
    "import numpy as np\n",
    "from scipy import stats\n",
    "import matplotlib.pyplot as plt\n",
    "import seaborn as sns\n",
    "%matplotlib inline"
   ]
  },
  {
   "cell_type": "markdown",
   "metadata": {},
   "source": [
    "___\n",
    "## _Introdução_\n",
    "\n",
    "Neste projeto, o objetivo final do grupo, é conseguir estimar com certa precisão o retorno financeiro de um filme hipotético X dado algumas características do mesmo. Para isso estamos utilizando uma base de dados que pode ser encontrada no link abaixo:\n",
    "\n",
    "Link do DataSet: https://www.kaggle.com/rounakbanik/the-movies-dataset#movies_metadata.csv"
   ]
  },
  {
   "cell_type": "code",
   "execution_count": 2,
   "metadata": {
    "collapsed": false
   },
   "outputs": [
    {
     "data": {
      "text/html": [
       "<div>\n",
       "<table border=\"1\" class=\"dataframe\">\n",
       "  <thead>\n",
       "    <tr style=\"text-align: right;\">\n",
       "      <th></th>\n",
       "      <th>original_title</th>\n",
       "      <th>vote_average</th>\n",
       "      <th>genres</th>\n",
       "      <th>budget</th>\n",
       "      <th>production_countries</th>\n",
       "      <th>revenue</th>\n",
       "      <th>production_companies</th>\n",
       "      <th>id</th>\n",
       "      <th>original_language</th>\n",
       "      <th>release_date</th>\n",
       "      <th>runtime</th>\n",
       "      <th>popularity</th>\n",
       "    </tr>\n",
       "  </thead>\n",
       "  <tbody>\n",
       "    <tr>\n",
       "      <th>0</th>\n",
       "      <td>Toy Story</td>\n",
       "      <td>7.7</td>\n",
       "      <td>[{'id': 16, 'name': 'Animation'}, {'id': 35, '...</td>\n",
       "      <td>30000000</td>\n",
       "      <td>[{'iso_3166_1': 'US', 'name': 'United States o...</td>\n",
       "      <td>373554033.0</td>\n",
       "      <td>[{'name': 'Pixar Animation Studios', 'id': 3}]</td>\n",
       "      <td>862</td>\n",
       "      <td>en</td>\n",
       "      <td>1995-10-30</td>\n",
       "      <td>81.0</td>\n",
       "      <td>21.946943</td>\n",
       "    </tr>\n",
       "    <tr>\n",
       "      <th>1</th>\n",
       "      <td>Jumanji</td>\n",
       "      <td>6.9</td>\n",
       "      <td>[{'id': 12, 'name': 'Adventure'}, {'id': 14, '...</td>\n",
       "      <td>65000000</td>\n",
       "      <td>[{'iso_3166_1': 'US', 'name': 'United States o...</td>\n",
       "      <td>262797249.0</td>\n",
       "      <td>[{'name': 'TriStar Pictures', 'id': 559}, {'na...</td>\n",
       "      <td>8844</td>\n",
       "      <td>en</td>\n",
       "      <td>1995-12-15</td>\n",
       "      <td>104.0</td>\n",
       "      <td>17.015539</td>\n",
       "    </tr>\n",
       "    <tr>\n",
       "      <th>2</th>\n",
       "      <td>Grumpier Old Men</td>\n",
       "      <td>6.5</td>\n",
       "      <td>[{'id': 10749, 'name': 'Romance'}, {'id': 35, ...</td>\n",
       "      <td>0</td>\n",
       "      <td>[{'iso_3166_1': 'US', 'name': 'United States o...</td>\n",
       "      <td>0.0</td>\n",
       "      <td>[{'name': 'Warner Bros.', 'id': 6194}, {'name'...</td>\n",
       "      <td>15602</td>\n",
       "      <td>en</td>\n",
       "      <td>1995-12-22</td>\n",
       "      <td>101.0</td>\n",
       "      <td>11.7129</td>\n",
       "    </tr>\n",
       "  </tbody>\n",
       "</table>\n",
       "</div>"
      ],
      "text/plain": [
       "     original_title  vote_average  \\\n",
       "0         Toy Story           7.7   \n",
       "1           Jumanji           6.9   \n",
       "2  Grumpier Old Men           6.5   \n",
       "\n",
       "                                              genres    budget  \\\n",
       "0  [{'id': 16, 'name': 'Animation'}, {'id': 35, '...  30000000   \n",
       "1  [{'id': 12, 'name': 'Adventure'}, {'id': 14, '...  65000000   \n",
       "2  [{'id': 10749, 'name': 'Romance'}, {'id': 35, ...         0   \n",
       "\n",
       "                                production_countries      revenue  \\\n",
       "0  [{'iso_3166_1': 'US', 'name': 'United States o...  373554033.0   \n",
       "1  [{'iso_3166_1': 'US', 'name': 'United States o...  262797249.0   \n",
       "2  [{'iso_3166_1': 'US', 'name': 'United States o...          0.0   \n",
       "\n",
       "                                production_companies     id original_language  \\\n",
       "0     [{'name': 'Pixar Animation Studios', 'id': 3}]    862                en   \n",
       "1  [{'name': 'TriStar Pictures', 'id': 559}, {'na...   8844                en   \n",
       "2  [{'name': 'Warner Bros.', 'id': 6194}, {'name'...  15602                en   \n",
       "\n",
       "  release_date  runtime popularity  \n",
       "0   1995-10-30     81.0  21.946943  \n",
       "1   1995-12-15    104.0  17.015539  \n",
       "2   1995-12-22    101.0    11.7129  "
      ]
     },
     "execution_count": 2,
     "metadata": {},
     "output_type": "execute_result"
    }
   ],
   "source": [
    "#Limpando DataFrame\n",
    "movies=pd.read_csv('movies_metadata.csv', low_memory=False)\n",
    "df=movies.loc[:, {'id','original_title','original_language','genres','popularity','runtime','budget','revenue',\n",
    "                 'production_companies','production_countries', 'release_date','vote_average',}]\n",
    "df.head(3)"
   ]
  },
  {
   "cell_type": "code",
   "execution_count": 3,
   "metadata": {
    "collapsed": false
   },
   "outputs": [
    {
     "data": {
      "text/plain": [
       "original_title           object\n",
       "vote_average            float64\n",
       "genres                   object\n",
       "budget                  float64\n",
       "production_countries     object\n",
       "revenue                 float64\n",
       "production_companies     object\n",
       "id                      float64\n",
       "original_language        object\n",
       "release_date             object\n",
       "runtime                 float64\n",
       "popularity              float64\n",
       "dtype: object"
      ]
     },
     "execution_count": 3,
     "metadata": {},
     "output_type": "execute_result"
    }
   ],
   "source": [
    "# Tirando valores de budget que estavam como arquivos de imagens e não números\n",
    "df=df.drop([19730, 29503, 35587])\n",
    "\n",
    "# Colocando algumas colunas como float para analisá-las quantitativamente\n",
    "df['budget']=df['budget'].astype('float64')\n",
    "df['popularity']=df['popularity'].astype('float64')\n",
    "df['id']=df['id'].astype('float64')\n",
    "df.dtypes"
   ]
  },
  {
   "cell_type": "code",
   "execution_count": 4,
   "metadata": {
    "collapsed": false
   },
   "outputs": [],
   "source": [
    "#Ordenando em ordem crescente de acordo com o id, e filtrando valores 0 das variáveis float\n",
    "df=df[(df['revenue']>0) & (df['budget']>0)  & (df['runtime']>0)]\n",
    "df=df.sort_values(['id'], ascending=[True])\n",
    "df['id']=df['id'].astype('int')\n",
    "\n",
    "df=df.set_index('id')"
   ]
  },
  {
   "cell_type": "code",
   "execution_count": 5,
   "metadata": {
    "collapsed": false
   },
   "outputs": [
    {
     "data": {
      "text/plain": [
       "<matplotlib.axes._subplots.AxesSubplot at 0x291041ccb70>"
      ]
     },
     "execution_count": 5,
     "metadata": {},
     "output_type": "execute_result"
    },
    {
     "data": {
      "image/png": "[encoded data removed]",
      "text/plain": [
       "<matplotlib.figure.Figure at 0x2917b723550>"
      ]
     },
     "metadata": {},
     "output_type": "display_data"
    }
   ],
   "source": [
    "f,ax = plt.subplots(figsize = (10,10))\n",
    "sns.heatmap(df.corr(),annot = True,fmt='.1f')"
   ]
  },
  {
   "cell_type": "markdown",
   "metadata": {},
   "source": [
    "Com o gráfico acima obtemos os resultados das correlações entre cada coluna (variável). Como queremos achar uma forma de estimar o retorno financeiro de um filme ao final do projeto, precisamos analisar as variáveis em relação à variável 'Revenue'. Dessa forma percebemos que, em nossa regressão, quanto maior a correlação de uma variável X em relação à nossa variável fixada (revenue), quanto mais próxima a 1, seja positiva ou negativamente, mais importante será na nossa regressão tal variável.\n",
    "\n",
    "Logo, das variáveis escolhidas até o momento, podemos dizer que em ordem de maior relevância no cálculo da nossa regressão estão em ordem decrescente, primeiro Budget (ou custo de produção do filme), o qual era esperado ter grande impacto no retorno do mesmo. Logo em seguida vem Popularity ou a popularidade do filme (quanto falam dele). Depois, juntos, seguem as variáveis Runtime (Tempo corrido em tela do filme) e Vote Average (Nota do filme dada pela comunidade)."
   ]
  },
  {
   "cell_type": "code",
   "execution_count": null,
   "metadata": {
    "collapsed": true
   },
   "outputs": [],
   "source": []
  }
 ],
 "metadata": {
  "kernelspec": {
   "display_name": "Python 3",
   "language": "python",
   "name": "python3"
  },
  "language_info": {
   "codemirror_mode": {
    "name": "ipython",
    "version": 3
   },
   "file_extension": ".py",
   "mimetype": "text/x-python",
   "name": "python",
   "nbconvert_exporter": "python",
   "pygments_lexer": "ipython3",
   "version": "3.6.0"
  }
 },
 "nbformat": 4,
 "nbformat_minor": 2
}
