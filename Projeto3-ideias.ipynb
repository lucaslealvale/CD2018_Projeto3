{
 "cells": [
  {
   "cell_type": "markdown",
   "metadata": {},
   "source": [
    "### Projeto 3 - Lucas Leal, Matheus Soares, Rafael Almada"
   ]
  },
  {
   "cell_type": "markdown",
   "metadata": {},
   "source": [
    "#### Ideia 1 - Filmes: Regressao linear sobre rendimento monetario\n",
    "#### Analisando categoria, orcamento e estudio qual sera o retorno monetario de X filme?"
   ]
  },
  {
   "cell_type": "markdown",
   "metadata": {},
   "source": [
    "link dataset"
   ]
  },
  {
   "cell_type": "markdown",
   "metadata": {},
   "source": [
    "https://www.kaggle.com/rounakbanik/the-movies-dataset#movies_metadata.csv - link 30/10/2018\n"
   ]
  },
  {
   "cell_type": "markdown",
   "metadata": {},
   "source": [
    "#### Ideia 2 - Seguranca publica: como se proteger de um possivel ataque terrorista para determinado local?\n",
    "#### Classificador bayes\n",
    "link dataset"
   ]
  },
  {
   "cell_type": "markdown",
   "metadata": {},
   "source": [
    "https://www.kaggle.com/START-UMD/gtd/version/3"
   ]
  },
  {
   "cell_type": "markdown",
   "metadata": {},
   "source": [
    "#### Ideia 3 - Seguranca publica: dado uma pessoa qual tipo mais provavel dela cometer?\n",
    "#### Clusterizacao\n",
    "link dataset"
   ]
  },
  {
   "cell_type": "markdown",
   "metadata": {},
   "source": [
    "https://www.kaggle.com/new-york-state/nys-prison-admissions-beginning-2008"
   ]
  }
 ],
 "metadata": {
  "kernelspec": {
   "display_name": "Python 3",
   "language": "python",
   "name": "python3"
  },
  "language_info": {
   "codemirror_mode": {
    "name": "ipython",
    "version": 3
   },
   "file_extension": ".py",
   "mimetype": "text/x-python",
   "name": "python",
   "nbconvert_exporter": "python",
   "pygments_lexer": "ipython3",
   "version": "3.7.0"
  }
 },
 "nbformat": 4,
 "nbformat_minor": 2
}
