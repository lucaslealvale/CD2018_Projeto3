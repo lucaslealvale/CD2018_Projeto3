{
 "cells": [
  {
   "cell_type": "markdown",
   "metadata": {},
   "source": [
    "# Projeto 3\n",
    "\n",
    "<b>Tema:</b> Estimar o retorno financeiro de um filme\n",
    "\n",
    "<b>Técnica:</b> Regressão Linear\n",
    "\n",
    "<b>Grupo:</b> Lucas Leal Vale, Matheus Augusto Soares, Rafael Almada\n",
    "___"
   ]
  },
  {
   "cell_type": "code",
   "execution_count": null,
   "metadata": {
    "collapsed": true
   },
   "outputs": [],
   "source": [
    "import pandas as pd\n",
    "import numpy as np\n",
    "from scipy import stats\n",
    "import matplotlib.pyplot as plt\n",
    "import seaborn as sns\n",
    "import statsmodels.api as sm\n",
    "%matplotlib inline"
   ]
  },
  {
   "cell_type": "markdown",
   "metadata": {},
   "source": [
    "___\n",
    "## _Introdução_\n",
    "\n",
    "Neste projeto, o objetivo final do grupo, é conseguir estimar com certa precisão o retorno financeiro de um filme hipotético X dado algumas características do mesmo. Para isso estamos utilizando uma base de dados que pode ser encontrada no link abaixo:\n",
    "\n",
    "Link do DataSet: https://www.kaggle.com/rounakbanik/the-movies-dataset#movies_metadata.csv\n",
    "\n",
    "___\n",
    "\n",
    "### _Filtrando a Base de Dados_"
   ]
  },
  {
   "cell_type": "code",
   "execution_count": null,
   "metadata": {
    "collapsed": true
   },
   "outputs": [],
   "source": [
    "#Limpando DataFrame\n",
    "movies=pd.read_csv('movies_metadata.csv', low_memory=False)\n",
    "df=movies.loc[:, {'id','original_title','original_language','genres','popularity','runtime','budget','revenue',\n",
    "                 'production_companies','production_countries', 'release_date','vote_average',}]"
   ]
  },
  {
   "cell_type": "code",
   "execution_count": null,
   "metadata": {
    "collapsed": true
   },
   "outputs": [],
   "source": [
    "# Tirando valores de budget que estavam como arquivos de imagens e não números\n",
    "df=df.drop([19730, 29503, 35587])\n",
    "\n",
    "# Colocando algumas colunas como float para analisá-las quantitativamente\n",
    "df['budget']=df['budget'].astype('float64')\n",
    "df['popularity']=df['popularity'].astype('float64')\n",
    "df['id']=df['id'].astype('float64')"
   ]
  },
  {
   "cell_type": "code",
   "execution_count": null,
   "metadata": {
    "collapsed": true
   },
   "outputs": [],
   "source": [
    "#Ordenando em ordem crescente de acordo com o id, e filtrando valores 0 das variáveis float\n",
    "df=df[(df['revenue']>0) & (df['budget']>0)  & (df['runtime']>0)]\n",
    "df=df.sort_values(['id'], ascending=[True])\n",
    "df['id']=df['id'].astype('int')\n",
    "df=df.set_index('id')"
   ]
  },
  {
   "cell_type": "markdown",
   "metadata": {},
   "source": [
    "___\n",
    "## _Análise Exploratória dos Dados_\n",
    "\n",
    "Aqui começamos a análise exploratória dos dados. Nosso objetivo nessa etapa é analisar como a nossa base de dados se comporta, para que assim, ao decorrer do código, é importante que estejamos cientes de como cada variável se organiza."
   ]
  },
  {
   "cell_type": "code",
   "execution_count": null,
   "metadata": {
    "collapsed": false
   },
   "outputs": [],
   "source": [
    "f,ax = plt.subplots(figsize = (10,10))\n",
    "sns.heatmap(df.corr(),annot = True,fmt='.1f')"
   ]
  },
  {
   "cell_type": "markdown",
   "metadata": {},
   "source": [
    "Com o gráfico acima obtemos os resultados das correlações entre cada coluna (variável). Como queremos achar uma forma de estimar o retorno financeiro de um filme ao final do projeto, precisamos analisar as variáveis em relação à variável 'Revenue'. Dessa forma percebemos que, em nossa regressão, quanto maior a correlação de uma variável X em relação à nossa variável fixada (revenue), quanto mais próxima a 1, seja positiva ou negativamente, mais importante será na nossa regressão tal variável.\n",
    "\n",
    "Logo, das variáveis escolhidas até o momento, podemos dizer que em ordem de maior relevância no cálculo da nossa regressão estão em ordem decrescente, primeiro Budget (ou custo de produção do filme), o qual era esperado ter grande impacto no retorno do mesmo. Logo em seguida vem Popularity ou a popularidade do filme (quanto falam dele). Depois, juntos, seguem as variáveis Runtime (Tempo corrido em tela do filme) e Vote Average (Nota do filme dada pela comunidade)."
   ]
  },
  {
   "cell_type": "code",
   "execution_count": null,
   "metadata": {
    "collapsed": false
   },
   "outputs": [],
   "source": [
    "# Alguns ScatterPlot para analisar a dispersão dos dados em relação a revenue\n",
    "fig=plt.figure(figsize=(10, 10))\n",
    "\n",
    "# Budget X Revenue\n",
    "plt.subplot(221)\n",
    "plt.scatter(df.budget,df.revenue, color='red')\n",
    "plt.title('Budget X Revenue')\n",
    "plt.ylabel('Revenue')\n",
    "plt.xlabel('Budget')\n",
    "\n",
    "# Popularity X Revenue\n",
    "plt.subplot(222)\n",
    "plt.scatter(df.popularity,df.revenue, color='blue')\n",
    "plt.title('Popularity X Revenue')\n",
    "plt.ylabel('Revenue')\n",
    "plt.xlabel('Popularity')\n",
    "\n",
    "# Vote Average X Revenue\n",
    "plt.subplot(223)\n",
    "plt.scatter(df.vote_average,df.revenue, color='green')\n",
    "plt.title('Vote Average X Revenue')\n",
    "plt.ylabel('Revenue')\n",
    "plt.xlabel('Vote Average')\n",
    "\n",
    "#Runtime X Revenue\n",
    "plt.subplot(224)\n",
    "plt.scatter(df.runtime,df.revenue, color='purple')\n",
    "plt.title('Runtime X Revenue')\n",
    "plt.ylabel('Revenue')\n",
    "plt.xlabel('Runtime')\n",
    "\n",
    "plt.show()"
   ]
  },
  {
   "cell_type": "markdown",
   "metadata": {},
   "source": [
    "Nos gráficos de dispersão acima podemos verificar o quão dispersos são os dados e visualiza-los em relação ao retorno financeiro (revenue). Percebemos que, como já visto em suas respectivas correlações, todos são positivos, logo quando o retorno é maior, a váriavel em questão (seja budget, popularidade ou tempo corrido) também é maior. A diferença desse gráfico para a tabela de correlações é que como já diz o nome deste, podemos verificar a disperção das variáveis.\n",
    "\n",
    "A parte curiosa disso é que alguns filmes conseguem um retorno alto, mesmo tendo uma produção barata seja por motivos quaisquer, como é o caso de alguns filmes de terror que por não usar muito dinheiro, sua credibilidade aumenta, aumentando no caso também o fator \"Terror\" e assim chegando a cada vez mais cinemas e conseguindo um retorno de um filme blockbuster produzido por alguma empresa grande. Além disso, os gráficos nos mostram que um filme popular entre as pessoas, não necessariamente vai trazer um retorno alto.\n",
    "\n",
    "Também temos dois gráficos que parecem um pouco com uma distribuição normal, possuindo uma média de tempo corrido de tela e classificação (ou nota) do público para o filme para um retorno maior do longa."
   ]
  },
  {
   "cell_type": "code",
   "execution_count": null,
   "metadata": {
    "collapsed": false
   },
   "outputs": [],
   "source": [
    "# Gráficos que verificam se alguma das variáveis analisadas tende a uma distribuição normal\n",
    "fig=plt.figure(figsize=(15, 10))\n",
    "\n",
    "plt.subplot(221)\n",
    "stats.probplot(df.budget, plot=plt)\n",
    "plt.title('Probplot: Budget')\n",
    "\n",
    "plt.subplot(222)\n",
    "stats.probplot(df.popularity, plot=plt)\n",
    "plt.title('Probplot: Popularity')\n",
    "\n",
    "plt.subplot(223)\n",
    "stats.probplot(df.runtime, plot=plt)\n",
    "plt.title('Probplot: Runtime')\n",
    "\n",
    "plt.subplot(224)\n",
    "stats.probplot(df.vote_average, plot=plt)\n",
    "plt.title('Probplot: Vote Average')\n",
    "plt.show()"
   ]
  },
  {
   "cell_type": "markdown",
   "metadata": {},
   "source": [
    "Os Probability Plots acima (gráficos que medem o quanto uma base e dados se distribui conforme uma distribuição Gaussiana ou Normal), nos mostram que nenhum das variáveis se comporta como uma. A hipótese que tínhamos anteriormente nos gráficos de dispersão, de que as variáveis \"Runtime\" (tempo corrido de tela) e \"Vote Average\" (nota do filme pelo público) seguem tal distribuição não se confirmam. Pelo incrível que pareça, a variável que mais tende a tal é a de popularidade do filme com o público, independendo de sua nota dada pelo mesmo. Porém não se pode dizer que nenhuma das variáveis se distribui de forma gaussiana, anulando essas hipóteses.\n",
    "\n",
    "Agora podemos seguir adiante da Análise exploratória dos dados."
   ]
  },
  {
   "cell_type": "markdown",
   "metadata": {},
   "source": [
    "___\n",
    "## Iniciando a Regressão Linear Múltipla"
   ]
  },
  {
   "cell_type": "code",
   "execution_count": null,
   "metadata": {
    "collapsed": false
   },
   "outputs": [],
   "source": [
    "X=df[['budget', 'popularity', 'runtime', 'vote_average']]\n",
    "xc=sm.add_constant(X)\n",
    "model=sm.OLS(df.revenue,xc)\n",
    "results=model.fit()\n",
    "results.summary()"
   ]
  },
  {
   "cell_type": "markdown",
   "metadata": {
    "collapsed": true
   },
   "source": [
    "Com o primeiro teste de regressão linear múltipla feita na célula acima (utilizando a biblioteca Statsmodels), conseguimos ter uma visão inicial do caminho que devemos seguir a partir de agora. Vamos analisar!\n",
    "\n",
    "Primeiro vamos olhar para o nosso **`R`²** que possui o valor de **0.603**. Dado esse valor, sabemos que a regressão ainda tem muito a ser melhorada (quanto mais próximo de **1** o **`R²`**, mais preciso está o modelo), devemos olhar para mais variáveis que possam explicar nosso modelo. No caso utilizamos por enquanto apenas as variáveis quantitativas, mas ainda temos algumas Qualitativas para implementar em nosso modelo.\n",
    "\n",
    "A segunda coisa que devemos dar nossa atenção são as **`P-values`**, sendo que todas as variáveis, exceto uma, possuem um **`p-value`** de **0**, porém temos _runtime_ que possui **0.975**. O problema de um valor alto nesse caso é porque isso prova que a variável em questão está mais atrapalhando do que ajudando a precisão da nossa regressão.\n",
    "\n",
    "As últimas coisas que devemos dar enfoque na primeira análise do modelo são a **`Prob(F-statistic)`**, a **`Prob(Omnibus)`** e a **`Prob(Jarque-Bera)`**. No caso a **`F-statistic`** coloca sob a hipótese nula de que todos os $\\beta$ 's (a não ser o $\\beta_0$) são iguais a zero e verifica o quão próximo tal modelo estaria do então calculado. Dado que a probabildade é **0**, logo podemos afirmar que o modelo precisa de tais variáveis.\n",
    "\n",
    "Já a **`Prob(Omnibus)`** testa se os resíduos do nosso modelo tendem a uma normal. É importante que os resíduos tendam a uma distribuição gaussiana, pois se os resíduos não se distribuírem como uma normal, então a hipótese de que eles se comportam como uma amostra aleatória de uma população maior será dada como uma mentira e isso comprometerá totalmente a veracidade da regressão. No caso temos **$Prob(Omnibus) = 0.00$**, sendo assim não podemos confiar neste modelo. \n",
    "\n",
    "Ainda temos a **`Prob(JB)`** que realiza o teste chamado **`Jarque-Bera`**, que utiliza as mesmas hipóteses que o teste **`Omnibus`**, porém utilizando um método diferente, fazendo uso do grau de assimetria da distribuição (Skew) e do grau de achatamento da mesma (Kurtosis). Um **`Skew`** mais próximo de **0** e um **`Kurtosis`** mais próximo de **3** são os mais precisos para uma distribuição gaussiana dos resíduos, porém ainda temos resíduos _\"reprovados\"_ em ambos os testes."
   ]
  },
  {
   "cell_type": "code",
   "execution_count": null,
   "metadata": {
    "collapsed": true
   },
   "outputs": [],
   "source": [
    "# Removendo a coluna df.runtime\n",
    "df=df.loc[:,['release_date','popularity','original_title','vote_average','original_language','revenue','production_countries',\n",
    "            'genres','production_companies','budget']]"
   ]
  },
  {
   "cell_type": "code",
   "execution_count": null,
   "metadata": {
    "collapsed": true
   },
   "outputs": [],
   "source": [
    "# As colunas de empresas e países que produziram estavam em um dicionário que estava dentro de uma string, então montamos a \n",
    "# função abaixo que transformam o conteudo de cada filme em uma lista a ser manipulada\n",
    "def transforma(df,parametro):\n",
    "    def dicio(df): #Ex: df = df.production_countries ; parametro = 'iso_3166_1'\n",
    "        count=0\n",
    "        dicio=''\n",
    "        for i in df:\n",
    "            if i==\"{\":\n",
    "                count=1\n",
    "            if count==1:\n",
    "                dicio+=i\n",
    "            if i==\"}\":\n",
    "                dicio+=';'\n",
    "                count=2\n",
    "            if i==\"]\":\n",
    "                break\n",
    "        dicio=dicio.split(';')\n",
    "        del(dicio[-1]) #removendo string vazia\n",
    "        return dicio\n",
    "# Agora precisamos percorrer todos os filmes com a função dicio    \n",
    "    dicio2=[]\n",
    "    for i in df.index:\n",
    "        dicio2.append(dicio(df[i]))\n",
    "# Agora, para cada filme na lista dicio2, iremos transformar cada empresa/país de string para dicionário\n",
    "    for x in range(len(dicio2)):\n",
    "        a=[]\n",
    "        #country=[]\n",
    "        for filme in dicio2[x]:\n",
    "            a.append(eval(filme))\n",
    "        dicio2[x]=a\n",
    "# Iremos manipular os dicionários e extrair somente as siglas dos países/empresas\n",
    "    country=[]\n",
    "    for filme in dicio2:\n",
    "        film=[]\n",
    "        for pais in filme:\n",
    "            sigla=pais[parametro]\n",
    "            film.append(sigla)\n",
    "        country.append(film)\n",
    "    return country"
   ]
  },
  {
   "cell_type": "markdown",
   "metadata": {},
   "source": [
    "Agora que a regressão já foi gerada é necessário tentar melhorá-la com as colunas qualitativas do dataframe. E para poder fazer uso delas é necessário trata-las, primeiro transformando em strings simples e depois adicionando no dataframe base 'df'."
   ]
  },
  {
   "cell_type": "code",
   "execution_count": null,
   "metadata": {
    "collapsed": true
   },
   "outputs": [],
   "source": [
    "# Aplicando a nossa função e adicionando o nome dos países de produção em uma coluna mais fácil de ser utilizada na regressão"
   ]
  },
  {
   "cell_type": "code",
   "execution_count": null,
   "metadata": {
    "collapsed": true,
    "scrolled": true
   },
   "outputs": [],
   "source": [
    "# # Arrumando a coluna de pais de produção para ser utilizada na regressão\n",
    "# country=transforma(df.production_countries,'iso_3166_1')\n",
    "# country=pd.Series(country)\n",
    "# df['country']=country"
   ]
  },
  {
   "cell_type": "code",
   "execution_count": null,
   "metadata": {
    "collapsed": true,
    "scrolled": true
   },
   "outputs": [],
   "source": [
    "# # Precisamos retirar '[]' das células de df.country\n",
    "# df['country']=df.country.astype(str).str.replace('\\[|\\]|\\'', '')"
   ]
  },
  {
   "cell_type": "code",
   "execution_count": null,
   "metadata": {
    "collapsed": true
   },
   "outputs": [],
   "source": [
    "# # transformando a coluna country em um dataframe quantitativo \n",
    "# country=pd.get_dummies(df.country)"
   ]
  },
  {
   "cell_type": "code",
   "execution_count": null,
   "metadata": {
    "collapsed": true
   },
   "outputs": [],
   "source": [
    "# df=df.merge(country, how='inner', on='id')"
   ]
  },
  {
   "cell_type": "code",
   "execution_count": null,
   "metadata": {
    "collapsed": true
   },
   "outputs": [],
   "source": [
    "# # Arrumando a coluna de linguas para ser utilizada na regressão\n",
    "# language=pd.get_dummies(df.original_language)"
   ]
  },
  {
   "cell_type": "code",
   "execution_count": null,
   "metadata": {
    "collapsed": true
   },
   "outputs": [],
   "source": [
    "# # adicionando novo dataframe ao antigo com a lingua original de cada pais\n",
    "# language=language.add_suffix('_')\n",
    "# df=df.merge(language, how='inner', on='id')"
   ]
  },
  {
   "cell_type": "code",
   "execution_count": null,
   "metadata": {
    "collapsed": true
   },
   "outputs": [],
   "source": [
    "# # Arrumando a coluna de companias para ser utilizada na regressão\n",
    "# companies=transforma(df.production_companies,'name')\n",
    "# companies=pd.Series(companies)\n",
    "# df['company']=companies\n",
    "# df['company']=df.company.astype(str).str.replace('\\[|\\]|\\'', '')"
   ]
  },
  {
   "cell_type": "code",
   "execution_count": null,
   "metadata": {
    "collapsed": true
   },
   "outputs": [],
   "source": [
    "# # transformando a coluna company em um dataframe quantitativo \n",
    "# compania=pd.get_dummies(df.company)"
   ]
  },
  {
   "cell_type": "code",
   "execution_count": null,
   "metadata": {
    "collapsed": true
   },
   "outputs": [],
   "source": [
    "# # adicionando novo dataframe ao antigo com a compania de cada filme \n",
    "# df=df.merge(compania, how='inner', on='id')"
   ]
  },
  {
   "cell_type": "code",
   "execution_count": null,
   "metadata": {
    "collapsed": false
   },
   "outputs": [],
   "source": [
    "# Arrumando a coluna de genêros para ser utilizada na regressão\n",
    "genero=transforma(df.genres,'name')\n",
    "genero=pd.Series(genero)\n",
    "df['genero']=genero\n",
    "#df['genero']=df.genero.astype(str).str.replace('\\[|\\]|\\'', '')\n",
    "genero"
   ]
  },
  {
   "cell_type": "code",
   "execution_count": null,
   "metadata": {
    "collapsed": true
   },
   "outputs": [],
   "source": [
    "# # transformando a coluna genêro em um dataframe quantitativo \n",
    "# generos=pd.get_dummies(df.genero)"
   ]
  },
  {
   "cell_type": "code",
   "execution_count": null,
   "metadata": {
    "collapsed": true
   },
   "outputs": [],
   "source": [
    "# # adicionando novo dataframe ao principal ('df') com os genêros de cada filme \n",
    "# df=df.merge(generos, how='inner', on='id')"
   ]
  },
  {
   "cell_type": "code",
   "execution_count": null,
   "metadata": {
    "collapsed": true
   },
   "outputs": [],
   "source": [
    "# # Criando um novo dataframe para ver se a o pais de origem ira melhorar nossa regressao, devido ao significativo aumento de colunas\n",
    "# # sera mais facil tirar aquelas que nao queremos ao inves de falar as que queremos dentro da regressao\n",
    "# #'genero'\n",
    "# dfg=df\n",
    "# dfg=dfg.drop(columns=['revenue','release_date','original_title','original_language','production_countries','genres','production_companies','country','company','genero'])"
   ]
  },
  {
   "cell_type": "code",
   "execution_count": null,
   "metadata": {
    "collapsed": true
   },
   "outputs": [],
   "source": [
    "# # Rodando a regressão com as variaveis qualitativas recém transformadas em quantitativas para ver se a regressão melhorou.\n",
    "# X=dfg\n",
    "# xc=sm.add_constant(X)\n",
    "# model=sm.OLS(df.revenue,xc)\n",
    "# results=model.fit()\n",
    "# results.summary()"
   ]
  },
  {
   "cell_type": "markdown",
   "metadata": {},
   "source": [
    "Na célula de código acima, após diversas filtragens nos dados e se utilizando de funções já prontas das bibliotecas, conseguimos uma regressão mais precisa que antes. Agora com váriaveis Quantitativas (numéricas) e Qualitativas ou Categóricas. Lembrando que a primeira coisa a ser observada em um modelo de Regressão é o **$R^2$**, que com apenas as variáveis numéricas, possuía o valor de **`0.603`**, o que significa que budget (orçamento do filme), tempo corrido de tela, nota do filme dada pelo público e popularidade entre o público em geral explicam **60.3%** do retorno financeiro de um filme qualquer. Ao adicionar mais algumas variáveis Categóricas que achamos que poderiam ajudar nossa regressão, este valor subiu para **`0.712`** **(ATUALIZAR ESSE VALOR COM GÊNERO)**., um aumento de quase **`10.9%`** **(ATUALIZAR)** ao nosso **$R^2$**. Foi adicionado à regressão as seguintes variáveis: `Línguagem original do filme`, `Empresas que produziram o filme`, `Países envolvidos na produção` e `gêneros dos filmes`.\n",
    "\n",
    "Por conta de como o pandas cria um dataframe transformando uma variável categórica em várias quantitativas (função `get_dummies`), acabamos com muitas variáveis que por serem tantas, cada uma explica uma porcentagem pequena do modelo, tendo um **`p-value`** consideravelmente alto para cada uma separada, mas sabemos que quando avaliadas como uma variável categórica, não afetam o modelo de fato, sendo o **`Prob(F-statistic)`** igual a **0** e portanto o modelo realmente precisa das variáveis utilizadas.\n",
    "\n",
    "Continuamos também com uma **`Prob(Omnibus)`** e **`Prob(JB)`** de **0**, colocando em prova de que os resíduos estão se distribuindo como uma normal.\n",
    "\n",
    "O modelo está preciso e consegue explicar **71.2%** do retorno financeiro de um filme qualquer."
   ]
  },
  {
   "cell_type": "markdown",
   "metadata": {},
   "source": [
    "___\n",
    "## Conclusão\n",
    "\n",
    "Concluindo, devemos relembrar a pergunta feita no início do projeto: Quais variáveis são necessárias para se explicar o retorno financeiro de um filme?\n",
    "\n",
    "Ao longo do projeto, percebemos que variáveis quantitativas têm uma significância maior e, portanto, são mais significantes no modelo de regressão do rendimento financeiro de um filme qualquer. O mais impactante para o modelo seria o budget (valor total para se produzir o filme).\n",
    "**[PRECISO TERMINAR AINDA]**"
   ]
  },
  {
   "cell_type": "code",
   "execution_count": null,
   "metadata": {
    "collapsed": false
   },
   "outputs": [],
   "source": [
    "genero"
   ]
  },
  {
   "cell_type": "code",
   "execution_count": null,
   "metadata": {
    "collapsed": true
   },
   "outputs": [],
   "source": [
    "def coluna(df):\n",
    "    lista=[]\n",
    "    for i in df:\n",
    "        for j in i:\n",
    "            if j not in lista:\n",
    "                lista.append(j)\n",
    "            else:\n",
    "                pass\n",
    "    return lista"
   ]
  },
  {
   "cell_type": "code",
   "execution_count": null,
   "metadata": {
    "collapsed": false
   },
   "outputs": [],
   "source": [
    "coluna(genero)"
   ]
  },
  {
   "cell_type": "code",
   "execution_count": null,
   "metadata": {
    "collapsed": true
   },
   "outputs": [],
   "source": [
    "df2 = df.copy()"
   ]
  },
  {
   "cell_type": "code",
   "execution_count": null,
   "metadata": {
    "collapsed": false
   },
   "outputs": [],
   "source": [
    "df2"
   ]
  },
  {
   "cell_type": "code",
   "execution_count": null,
   "metadata": {
    "collapsed": false
   },
   "outputs": [],
   "source": [
    "tipofilme=coluna(genero)\n",
    "tipofilme"
   ]
  },
  {
   "cell_type": "code",
   "execution_count": null,
   "metadata": {
    "collapsed": true
   },
   "outputs": [],
   "source": [
    "for nome in coluna(genero):\n",
    "    df2[nome] = 0"
   ]
  },
  {
   "cell_type": "code",
   "execution_count": null,
   "metadata": {
    "collapsed": false,
    "scrolled": true
   },
   "outputs": [],
   "source": [
    "df2.head(3)"
   ]
  },
  {
   "cell_type": "code",
   "execution_count": null,
   "metadata": {
    "collapsed": false
   },
   "outputs": [],
   "source": [
    "df2.genero"
   ]
  },
  {
   "cell_type": "code",
   "execution_count": null,
   "metadata": {
    "collapsed": false
   },
   "outputs": [],
   "source": [
    "k  = 5\n",
    "m = \"Western\"\n",
    "df2.loc[k,:].genero\n"
   ]
  },
  {
   "cell_type": "code",
   "execution_count": null,
   "metadata": {
    "collapsed": false
   },
   "outputs": [],
   "source": [
    "for k in df2.index:\n",
    "    print(k)\n",
    "    gens = df2.loc[k,:].genero\n",
    "    print(type(gens))\n",
    "    for g in gens:\n",
    "        print(g)\n"
   ]
  },
  {
   "cell_type": "code",
   "execution_count": null,
   "metadata": {
    "collapsed": false
   },
   "outputs": [],
   "source": [
    "k = 5\n",
    "m = \"Mystery\"\n",
    "df2.loc[k,:].genero"
   ]
  },
  {
   "cell_type": "code",
   "execution_count": null,
   "metadata": {
    "collapsed": false
   },
   "outputs": [],
   "source": [
    "# #df2nn = df2.dropna(subset=df2.genero )\n",
    "\n",
    "\n",
    "for k in df2.index:\n",
    "    gens = df2.loc[k,:].genero\n",
    "   \n",
    "    for g in gens:\n",
    "        df2.loc[k,g]=1"
   ]
  },
  {
   "cell_type": "code",
   "execution_count": null,
   "metadata": {
    "collapsed": true
   },
   "outputs": [],
   "source": []
  },
  {
   "cell_type": "code",
   "execution_count": null,
   "metadata": {
    "collapsed": true
   },
   "outputs": [],
   "source": [
    "# tipofilme- todos o generos sem repeticao, nao pertence ao dataframe, e apenas uma lista\n",
    "# df2.genero - cada filme dentro do index id e sua combinacao de generos, pertence ao dataframe principal\n",
    "\n",
    "#for tema in tipofilme:\n",
    "# for i in df2.index:\n",
    "#     for gen in df2.genero:\n",
    "#         for j in gen:\n",
    "#             for tema in tipofilme:\n",
    "#                 if j==tema:\n",
    "#                     df2[j][i]=1\n",
    "#                 else:\n",
    "#                     pass\n",
    "#             #df2[j][i]=1\n",
    "#         #print(gen)\n",
    "#         #print(i)\n",
    "#         #df2[gen][i]=1"
   ]
  },
  {
   "cell_type": "code",
   "execution_count": null,
   "metadata": {
    "collapsed": false
   },
   "outputs": [],
   "source": [
    "df2"
   ]
  },
  {
   "cell_type": "code",
   "execution_count": null,
   "metadata": {
    "collapsed": false
   },
   "outputs": [],
   "source": [
    "lista=[]\n",
    "print('oi')\n",
    "film=[]\n",
    "if len(lista)==0:\n",
    "    film.append([0])\n",
    "else:\n",
    "    for i in lista:\n",
    "        film.append(lista)\n",
    "print(film)"
   ]
  },
  {
   "cell_type": "code",
   "execution_count": null,
   "metadata": {
    "collapsed": false
   },
   "outputs": [],
   "source": [
    "len(lista)"
   ]
  },
  {
   "cell_type": "code",
   "execution_count": null,
   "metadata": {
    "collapsed": false
   },
   "outputs": [],
   "source": [
    "genero"
   ]
  },
  {
   "cell_type": "code",
   "execution_count": null,
   "metadata": {
    "collapsed": false
   },
   "outputs": [],
   "source": [
    "def genero(filme):\n",
    "    l=eval(filme)\n",
    "    retl = []\n",
    "    c=0\n",
    "    for i in l:\n",
    "        genero=i['name']\n",
    "        c+=1\n",
    "        retl.append(genero)\n",
    "    return retl"
   ]
  },
  {
   "cell_type": "code",
   "execution_count": null,
   "metadata": {
    "collapsed": false
   },
   "outputs": [],
   "source": [
    "df2['GENERO']=df2.genres.apply(genero)\n",
    "df2"
   ]
  },
  {
   "cell_type": "code",
   "execution_count": null,
   "metadata": {
    "collapsed": false
   },
   "outputs": [],
   "source": []
  },
  {
   "cell_type": "code",
   "execution_count": null,
   "metadata": {
    "collapsed": true
   },
   "outputs": [],
   "source": [
    "for k in df2.index:\n",
    "    gens = df2.loc[k,:].GENERO\n",
    "   \n",
    "    for g in gens:\n",
    "        df2.loc[k,g]=1"
   ]
  },
  {
   "cell_type": "code",
   "execution_count": null,
   "metadata": {
    "collapsed": false
   },
   "outputs": [],
   "source": []
  },
  {
   "cell_type": "code",
   "execution_count": null,
   "metadata": {
    "collapsed": false
   },
   "outputs": [],
   "source": [
    "df2[df2.index==19]"
   ]
  },
  {
   "cell_type": "code",
   "execution_count": null,
   "metadata": {
    "collapsed": false
   },
   "outputs": [],
   "source": []
  },
  {
   "cell_type": "code",
   "execution_count": null,
   "metadata": {
    "collapsed": true
   },
   "outputs": [],
   "source": []
  }
 ],
 "metadata": {
  "kernelspec": {
   "display_name": "Python 3",
   "language": "python",
   "name": "python3"
  },
  "language_info": {
   "codemirror_mode": {
    "name": "ipython",
    "version": 3
   },
   "file_extension": ".py",
   "mimetype": "text/x-python",
   "name": "python",
   "nbconvert_exporter": "python",
   "pygments_lexer": "ipython3",
   "version": "3.6.0"
  }
 },
 "nbformat": 4,
 "nbformat_minor": 2
}
